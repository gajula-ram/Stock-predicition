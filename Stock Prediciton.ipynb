{
 "cells": [
  {
   "cell_type": "markdown",
   "id": "a757ae06",
   "metadata": {},
   "source": [
    "# Description:"
   ]
  },
  {
   "cell_type": "markdown",
   "id": "7b39d181",
   "metadata": {},
   "source": [
    "\n",
    "\n",
    "This notebook demonstrates the future price prediction for different stocks using recurrent neural networks in tensorflow. Recurrent neural networks with basic, LSTM  are implemented."
   ]
  },
  {
   "cell_type": "markdown",
   "id": "c8cdc04b",
   "metadata": {},
   "source": [
    "# Outline:"
   ]
  },
  {
   "cell_type": "raw",
   "id": "2d8e4c94",
   "metadata": {},
   "source": [
    "*We will collect the Stock Data----AAPL\n",
    "*Preprocess the Data--Train and Test\n",
    "*Create an Stacked LSTM model\n",
    "*Predict the test data and plot the output\n",
    "*Predict the future 30days and plot the output"
   ]
  },
  {
   "cell_type": "markdown",
   "id": "2083e61c",
   "metadata": {},
   "source": [
    "# Libraries and settings "
   ]
  },
  {
   "cell_type": "code",
   "execution_count": 59,
   "id": "b8ca3ec8",
   "metadata": {},
   "outputs": [],
   "source": [
    "import numpy as np\n",
    "import pandas as pd\n",
    "import matplotlib.pyplot as plt\n",
    "%matplotlib inline\n",
    "import pandas_datareader as data\n"
   ]
  },
  {
   "cell_type": "markdown",
   "id": "1e354bbf",
   "metadata": {},
   "source": [
    "# Analyze data"
   ]
  },
  {
   "cell_type": "code",
   "execution_count": 128,
   "id": "ea0f3fe5",
   "metadata": {},
   "outputs": [
    {
     "data": {
      "text/html": [
       "<div>\n",
       "<style scoped>\n",
       "    .dataframe tbody tr th:only-of-type {\n",
       "        vertical-align: middle;\n",
       "    }\n",
       "\n",
       "    .dataframe tbody tr th {\n",
       "        vertical-align: top;\n",
       "    }\n",
       "\n",
       "    .dataframe thead th {\n",
       "        text-align: right;\n",
       "    }\n",
       "</style>\n",
       "<table border=\"1\" class=\"dataframe\">\n",
       "  <thead>\n",
       "    <tr style=\"text-align: right;\">\n",
       "      <th></th>\n",
       "      <th>High</th>\n",
       "      <th>Low</th>\n",
       "      <th>Open</th>\n",
       "      <th>Close</th>\n",
       "      <th>Volume</th>\n",
       "      <th>Adj Close</th>\n",
       "    </tr>\n",
       "    <tr>\n",
       "      <th>Date</th>\n",
       "      <th></th>\n",
       "      <th></th>\n",
       "      <th></th>\n",
       "      <th></th>\n",
       "      <th></th>\n",
       "      <th></th>\n",
       "    </tr>\n",
       "  </thead>\n",
       "  <tbody>\n",
       "    <tr>\n",
       "      <th>2014-12-31</th>\n",
       "      <td>28.282499</td>\n",
       "      <td>27.552500</td>\n",
       "      <td>28.205000</td>\n",
       "      <td>27.594999</td>\n",
       "      <td>165613600.0</td>\n",
       "      <td>25.020117</td>\n",
       "    </tr>\n",
       "    <tr>\n",
       "      <th>2015-01-02</th>\n",
       "      <td>27.860001</td>\n",
       "      <td>26.837500</td>\n",
       "      <td>27.847500</td>\n",
       "      <td>27.332500</td>\n",
       "      <td>212818400.0</td>\n",
       "      <td>24.782110</td>\n",
       "    </tr>\n",
       "    <tr>\n",
       "      <th>2015-01-05</th>\n",
       "      <td>27.162500</td>\n",
       "      <td>26.352501</td>\n",
       "      <td>27.072500</td>\n",
       "      <td>26.562500</td>\n",
       "      <td>257142000.0</td>\n",
       "      <td>24.083958</td>\n",
       "    </tr>\n",
       "    <tr>\n",
       "      <th>2015-01-06</th>\n",
       "      <td>26.857500</td>\n",
       "      <td>26.157499</td>\n",
       "      <td>26.635000</td>\n",
       "      <td>26.565001</td>\n",
       "      <td>263188400.0</td>\n",
       "      <td>24.086227</td>\n",
       "    </tr>\n",
       "    <tr>\n",
       "      <th>2015-01-07</th>\n",
       "      <td>27.049999</td>\n",
       "      <td>26.674999</td>\n",
       "      <td>26.799999</td>\n",
       "      <td>26.937500</td>\n",
       "      <td>160423600.0</td>\n",
       "      <td>24.423975</td>\n",
       "    </tr>\n",
       "  </tbody>\n",
       "</table>\n",
       "</div>"
      ],
      "text/plain": [
       "                 High        Low       Open      Close       Volume  Adj Close\n",
       "Date                                                                          \n",
       "2014-12-31  28.282499  27.552500  28.205000  27.594999  165613600.0  25.020117\n",
       "2015-01-02  27.860001  26.837500  27.847500  27.332500  212818400.0  24.782110\n",
       "2015-01-05  27.162500  26.352501  27.072500  26.562500  257142000.0  24.083958\n",
       "2015-01-06  26.857500  26.157499  26.635000  26.565001  263188400.0  24.086227\n",
       "2015-01-07  27.049999  26.674999  26.799999  26.937500  160423600.0  24.423975"
      ]
     },
     "execution_count": 128,
     "metadata": {},
     "output_type": "execute_result"
    }
   ],
   "source": [
    "start = '2015-01-01'\n",
    "end = '2021-01-01'\n",
    "\n",
    "df = data.DataReader('AAPL','yahoo',start,end)\n",
    "df.head()"
   ]
  },
  {
   "cell_type": "code",
   "execution_count": 129,
   "id": "c1f10a6f",
   "metadata": {},
   "outputs": [
    {
     "data": {
      "text/html": [
       "<div>\n",
       "<style scoped>\n",
       "    .dataframe tbody tr th:only-of-type {\n",
       "        vertical-align: middle;\n",
       "    }\n",
       "\n",
       "    .dataframe tbody tr th {\n",
       "        vertical-align: top;\n",
       "    }\n",
       "\n",
       "    .dataframe thead th {\n",
       "        text-align: right;\n",
       "    }\n",
       "</style>\n",
       "<table border=\"1\" class=\"dataframe\">\n",
       "  <thead>\n",
       "    <tr style=\"text-align: right;\">\n",
       "      <th></th>\n",
       "      <th>High</th>\n",
       "      <th>Low</th>\n",
       "      <th>Open</th>\n",
       "      <th>Close</th>\n",
       "      <th>Volume</th>\n",
       "      <th>Adj Close</th>\n",
       "    </tr>\n",
       "    <tr>\n",
       "      <th>Date</th>\n",
       "      <th></th>\n",
       "      <th></th>\n",
       "      <th></th>\n",
       "      <th></th>\n",
       "      <th></th>\n",
       "      <th></th>\n",
       "    </tr>\n",
       "  </thead>\n",
       "  <tbody>\n",
       "    <tr>\n",
       "      <th>2020-12-24</th>\n",
       "      <td>133.460007</td>\n",
       "      <td>131.100006</td>\n",
       "      <td>131.320007</td>\n",
       "      <td>131.970001</td>\n",
       "      <td>54930100.0</td>\n",
       "      <td>131.352829</td>\n",
       "    </tr>\n",
       "    <tr>\n",
       "      <th>2020-12-28</th>\n",
       "      <td>137.339996</td>\n",
       "      <td>133.509995</td>\n",
       "      <td>133.990005</td>\n",
       "      <td>136.690002</td>\n",
       "      <td>124486200.0</td>\n",
       "      <td>136.050766</td>\n",
       "    </tr>\n",
       "    <tr>\n",
       "      <th>2020-12-29</th>\n",
       "      <td>138.789993</td>\n",
       "      <td>134.339996</td>\n",
       "      <td>138.050003</td>\n",
       "      <td>134.869995</td>\n",
       "      <td>121047300.0</td>\n",
       "      <td>134.239273</td>\n",
       "    </tr>\n",
       "    <tr>\n",
       "      <th>2020-12-30</th>\n",
       "      <td>135.990005</td>\n",
       "      <td>133.399994</td>\n",
       "      <td>135.580002</td>\n",
       "      <td>133.720001</td>\n",
       "      <td>96452100.0</td>\n",
       "      <td>133.094650</td>\n",
       "    </tr>\n",
       "    <tr>\n",
       "      <th>2020-12-31</th>\n",
       "      <td>134.740005</td>\n",
       "      <td>131.720001</td>\n",
       "      <td>134.080002</td>\n",
       "      <td>132.690002</td>\n",
       "      <td>99116600.0</td>\n",
       "      <td>132.069473</td>\n",
       "    </tr>\n",
       "  </tbody>\n",
       "</table>\n",
       "</div>"
      ],
      "text/plain": [
       "                  High         Low        Open       Close       Volume  \\\n",
       "Date                                                                      \n",
       "2020-12-24  133.460007  131.100006  131.320007  131.970001   54930100.0   \n",
       "2020-12-28  137.339996  133.509995  133.990005  136.690002  124486200.0   \n",
       "2020-12-29  138.789993  134.339996  138.050003  134.869995  121047300.0   \n",
       "2020-12-30  135.990005  133.399994  135.580002  133.720001   96452100.0   \n",
       "2020-12-31  134.740005  131.720001  134.080002  132.690002   99116600.0   \n",
       "\n",
       "             Adj Close  \n",
       "Date                    \n",
       "2020-12-24  131.352829  \n",
       "2020-12-28  136.050766  \n",
       "2020-12-29  134.239273  \n",
       "2020-12-30  133.094650  \n",
       "2020-12-31  132.069473  "
      ]
     },
     "execution_count": 129,
     "metadata": {},
     "output_type": "execute_result"
    }
   ],
   "source": [
    "df.tail()\n"
   ]
  },
  {
   "cell_type": "code",
   "execution_count": 130,
   "id": "a07b0851",
   "metadata": {},
   "outputs": [
    {
     "data": {
      "text/html": [
       "<div>\n",
       "<style scoped>\n",
       "    .dataframe tbody tr th:only-of-type {\n",
       "        vertical-align: middle;\n",
       "    }\n",
       "\n",
       "    .dataframe tbody tr th {\n",
       "        vertical-align: top;\n",
       "    }\n",
       "\n",
       "    .dataframe thead th {\n",
       "        text-align: right;\n",
       "    }\n",
       "</style>\n",
       "<table border=\"1\" class=\"dataframe\">\n",
       "  <thead>\n",
       "    <tr style=\"text-align: right;\">\n",
       "      <th></th>\n",
       "      <th>Date</th>\n",
       "      <th>High</th>\n",
       "      <th>Low</th>\n",
       "      <th>Open</th>\n",
       "      <th>Close</th>\n",
       "      <th>Volume</th>\n",
       "      <th>Adj Close</th>\n",
       "    </tr>\n",
       "  </thead>\n",
       "  <tbody>\n",
       "    <tr>\n",
       "      <th>0</th>\n",
       "      <td>2014-12-31</td>\n",
       "      <td>28.282499</td>\n",
       "      <td>27.552500</td>\n",
       "      <td>28.205000</td>\n",
       "      <td>27.594999</td>\n",
       "      <td>165613600.0</td>\n",
       "      <td>25.020117</td>\n",
       "    </tr>\n",
       "    <tr>\n",
       "      <th>1</th>\n",
       "      <td>2015-01-02</td>\n",
       "      <td>27.860001</td>\n",
       "      <td>26.837500</td>\n",
       "      <td>27.847500</td>\n",
       "      <td>27.332500</td>\n",
       "      <td>212818400.0</td>\n",
       "      <td>24.782110</td>\n",
       "    </tr>\n",
       "    <tr>\n",
       "      <th>2</th>\n",
       "      <td>2015-01-05</td>\n",
       "      <td>27.162500</td>\n",
       "      <td>26.352501</td>\n",
       "      <td>27.072500</td>\n",
       "      <td>26.562500</td>\n",
       "      <td>257142000.0</td>\n",
       "      <td>24.083958</td>\n",
       "    </tr>\n",
       "    <tr>\n",
       "      <th>3</th>\n",
       "      <td>2015-01-06</td>\n",
       "      <td>26.857500</td>\n",
       "      <td>26.157499</td>\n",
       "      <td>26.635000</td>\n",
       "      <td>26.565001</td>\n",
       "      <td>263188400.0</td>\n",
       "      <td>24.086227</td>\n",
       "    </tr>\n",
       "    <tr>\n",
       "      <th>4</th>\n",
       "      <td>2015-01-07</td>\n",
       "      <td>27.049999</td>\n",
       "      <td>26.674999</td>\n",
       "      <td>26.799999</td>\n",
       "      <td>26.937500</td>\n",
       "      <td>160423600.0</td>\n",
       "      <td>24.423975</td>\n",
       "    </tr>\n",
       "  </tbody>\n",
       "</table>\n",
       "</div>"
      ],
      "text/plain": [
       "        Date       High        Low       Open      Close       Volume  \\\n",
       "0 2014-12-31  28.282499  27.552500  28.205000  27.594999  165613600.0   \n",
       "1 2015-01-02  27.860001  26.837500  27.847500  27.332500  212818400.0   \n",
       "2 2015-01-05  27.162500  26.352501  27.072500  26.562500  257142000.0   \n",
       "3 2015-01-06  26.857500  26.157499  26.635000  26.565001  263188400.0   \n",
       "4 2015-01-07  27.049999  26.674999  26.799999  26.937500  160423600.0   \n",
       "\n",
       "   Adj Close  \n",
       "0  25.020117  \n",
       "1  24.782110  \n",
       "2  24.083958  \n",
       "3  24.086227  \n",
       "4  24.423975  "
      ]
     },
     "execution_count": 130,
     "metadata": {},
     "output_type": "execute_result"
    }
   ],
   "source": [
    "df = df.reset_index()\n",
    "df.head()"
   ]
  },
  {
   "cell_type": "code",
   "execution_count": 131,
   "id": "e8dab154",
   "metadata": {},
   "outputs": [
    {
     "data": {
      "text/html": [
       "<div>\n",
       "<style scoped>\n",
       "    .dataframe tbody tr th:only-of-type {\n",
       "        vertical-align: middle;\n",
       "    }\n",
       "\n",
       "    .dataframe tbody tr th {\n",
       "        vertical-align: top;\n",
       "    }\n",
       "\n",
       "    .dataframe thead th {\n",
       "        text-align: right;\n",
       "    }\n",
       "</style>\n",
       "<table border=\"1\" class=\"dataframe\">\n",
       "  <thead>\n",
       "    <tr style=\"text-align: right;\">\n",
       "      <th></th>\n",
       "      <th>High</th>\n",
       "      <th>Low</th>\n",
       "      <th>Open</th>\n",
       "      <th>Close</th>\n",
       "      <th>Volume</th>\n",
       "    </tr>\n",
       "  </thead>\n",
       "  <tbody>\n",
       "    <tr>\n",
       "      <th>0</th>\n",
       "      <td>28.282499</td>\n",
       "      <td>27.552500</td>\n",
       "      <td>28.205000</td>\n",
       "      <td>27.594999</td>\n",
       "      <td>165613600.0</td>\n",
       "    </tr>\n",
       "    <tr>\n",
       "      <th>1</th>\n",
       "      <td>27.860001</td>\n",
       "      <td>26.837500</td>\n",
       "      <td>27.847500</td>\n",
       "      <td>27.332500</td>\n",
       "      <td>212818400.0</td>\n",
       "    </tr>\n",
       "    <tr>\n",
       "      <th>2</th>\n",
       "      <td>27.162500</td>\n",
       "      <td>26.352501</td>\n",
       "      <td>27.072500</td>\n",
       "      <td>26.562500</td>\n",
       "      <td>257142000.0</td>\n",
       "    </tr>\n",
       "    <tr>\n",
       "      <th>3</th>\n",
       "      <td>26.857500</td>\n",
       "      <td>26.157499</td>\n",
       "      <td>26.635000</td>\n",
       "      <td>26.565001</td>\n",
       "      <td>263188400.0</td>\n",
       "    </tr>\n",
       "    <tr>\n",
       "      <th>4</th>\n",
       "      <td>27.049999</td>\n",
       "      <td>26.674999</td>\n",
       "      <td>26.799999</td>\n",
       "      <td>26.937500</td>\n",
       "      <td>160423600.0</td>\n",
       "    </tr>\n",
       "  </tbody>\n",
       "</table>\n",
       "</div>"
      ],
      "text/plain": [
       "        High        Low       Open      Close       Volume\n",
       "0  28.282499  27.552500  28.205000  27.594999  165613600.0\n",
       "1  27.860001  26.837500  27.847500  27.332500  212818400.0\n",
       "2  27.162500  26.352501  27.072500  26.562500  257142000.0\n",
       "3  26.857500  26.157499  26.635000  26.565001  263188400.0\n",
       "4  27.049999  26.674999  26.799999  26.937500  160423600.0"
      ]
     },
     "execution_count": 131,
     "metadata": {},
     "output_type": "execute_result"
    }
   ],
   "source": [
    "df = df.drop(['Date','Adj Close'],axis = 1)\n",
    "df.head()"
   ]
  },
  {
   "cell_type": "code",
   "execution_count": 132,
   "id": "458ce77c",
   "metadata": {},
   "outputs": [
    {
     "data": {
      "text/plain": [
       "0    27.594999\n",
       "1    27.332500\n",
       "2    26.562500\n",
       "3    26.565001\n",
       "4    26.937500\n",
       "Name: Close, dtype: float64"
      ]
     },
     "execution_count": 132,
     "metadata": {},
     "output_type": "execute_result"
    }
   ],
   "source": [
    "df1 = df.reset_index()['Close']\n",
    "df1.head()"
   ]
  },
  {
   "cell_type": "code",
   "execution_count": 133,
   "id": "a7919453",
   "metadata": {},
   "outputs": [
    {
     "data": {
      "text/plain": [
       "[<matplotlib.lines.Line2D at 0x1d6c74cc3d0>]"
      ]
     },
     "execution_count": 133,
     "metadata": {},
     "output_type": "execute_result"
    },
    {
     "data": {
      "image/png": "[encoded data removed]",
      "text/plain": [
       "<Figure size 432x288 with 1 Axes>"
      ]
     },
     "metadata": {
      "needs_background": "light"
     },
     "output_type": "display_data"
    }
   ],
   "source": [
    "plt.plot(df1)"
   ]
  },
  {
   "cell_type": "code",
   "execution_count": 134,
   "id": "fac9dfb4",
   "metadata": {},
   "outputs": [
    {
     "data": {
      "text/plain": [
       "0        27.594999\n",
       "1        27.332500\n",
       "2        26.562500\n",
       "3        26.565001\n",
       "4        26.937500\n",
       "           ...    \n",
       "1507    131.970001\n",
       "1508    136.690002\n",
       "1509    134.869995\n",
       "1510    133.720001\n",
       "1511    132.690002\n",
       "Name: Close, Length: 1512, dtype: float64"
      ]
     },
     "execution_count": 134,
     "metadata": {},
     "output_type": "execute_result"
    }
   ],
   "source": [
    "df1"
   ]
  },
  {
   "cell_type": "code",
   "execution_count": 135,
   "id": "68a109d8",
   "metadata": {},
   "outputs": [
    {
     "data": {
      "text/plain": [
       "0              NaN\n",
       "1              NaN\n",
       "2              NaN\n",
       "3              NaN\n",
       "4              NaN\n",
       "           ...    \n",
       "1507    118.223525\n",
       "1508    118.489800\n",
       "1509    118.699475\n",
       "1510    118.925550\n",
       "1511    119.125175\n",
       "Name: Close, Length: 1512, dtype: float64"
      ]
     },
     "execution_count": 135,
     "metadata": {},
     "output_type": "execute_result"
    }
   ],
   "source": [
    "ma100 = df1.rolling(100).mean()\n",
    "ma100"
   ]
  },
  {
   "cell_type": "code",
   "execution_count": 136,
   "id": "323750e0",
   "metadata": {},
   "outputs": [
    {
     "data": {
      "text/plain": [
       "[<matplotlib.lines.Line2D at 0x1d6c74946a0>]"
      ]
     },
     "execution_count": 136,
     "metadata": {},
     "output_type": "execute_result"
    },
    {
     "data": {
      "image/png": "[encoded data removed]",
      "text/plain": [
       "<Figure size 864x432 with 1 Axes>"
      ]
     },
     "metadata": {
      "needs_background": "light"
     },
     "output_type": "display_data"
    }
   ],
   "source": [
    "plt.figure(figsize = (12,6))\n",
    "plt.plot(df1)\n",
    "plt.plot(ma100,'r')"
   ]
  },
  {
   "cell_type": "code",
   "execution_count": 137,
   "id": "ea931397",
   "metadata": {},
   "outputs": [
    {
     "data": {
      "text/plain": [
       "0              NaN\n",
       "1              NaN\n",
       "2              NaN\n",
       "3              NaN\n",
       "4              NaN\n",
       "           ...    \n",
       "1507     99.158737\n",
       "1508     99.494725\n",
       "1509     99.866312\n",
       "1510    100.218837\n",
       "1511    100.573950\n",
       "Name: Close, Length: 1512, dtype: float64"
      ]
     },
     "execution_count": 137,
     "metadata": {},
     "output_type": "execute_result"
    }
   ],
   "source": [
    "ma200 = df1.rolling(200).mean()\n",
    "ma200"
   ]
  },
  {
   "cell_type": "code",
   "execution_count": 138,
   "id": "73aa5ac5",
   "metadata": {},
   "outputs": [
    {
     "data": {
      "text/plain": [
       "[<matplotlib.lines.Line2D at 0x1d6c40669a0>]"
      ]
     },
     "execution_count": 138,
     "metadata": {},
     "output_type": "execute_result"
    },
    {
     "data": {
      "image/png": "[encoded data removed]",
      "text/plain": [
       "<Figure size 864x432 with 1 Axes>"
      ]
     },
     "metadata": {
      "needs_background": "light"
     },
     "output_type": "display_data"
    }
   ],
   "source": [
    "plt.figure(figsize = (12,6))\n",
    "plt.plot(df1)\n",
    "plt.plot(ma100,'r')\n",
    "plt.plot(ma200,'g')"
   ]
  },
  {
   "cell_type": "code",
   "execution_count": 139,
   "id": "4ace722c",
   "metadata": {},
   "outputs": [
    {
     "data": {
      "text/plain": [
       "(1512,)"
      ]
     },
     "execution_count": 139,
     "metadata": {},
     "output_type": "execute_result"
    }
   ],
   "source": [
    "df1.shape"
   ]
  },
  {
   "cell_type": "markdown",
   "id": "11fd1ad1",
   "metadata": {},
   "source": [
    "# Manipulate data "
   ]
  },
  {
   "cell_type": "code",
   "execution_count": 140,
   "id": "241d10e9",
   "metadata": {},
   "outputs": [],
   "source": [
    "### lstm are sensitive to  the scale of data. so we apply minmaxscaler\n",
    "import numpy as np\n",
    "from sklearn.preprocessing import MinMaxScaler\n",
    "scaler=MinMaxScaler(feature_range=(0,1))\n",
    "df1=scaler.fit_transform(np.array(df1).reshape(-1,1))"
   ]
  },
  {
   "cell_type": "code",
   "execution_count": 141,
   "id": "a80ff8e5",
   "metadata": {},
   "outputs": [
    {
     "data": {
      "text/plain": [
       "array([[0.04390693],\n",
       "       [0.04160643],\n",
       "       [0.03485825],\n",
       "       ...,\n",
       "       [0.98404971],\n",
       "       [0.97397133],\n",
       "       [0.96494457]])"
      ]
     },
     "execution_count": 141,
     "metadata": {},
     "output_type": "execute_result"
    }
   ],
   "source": [
    "df1"
   ]
  },
  {
   "cell_type": "code",
   "execution_count": 142,
   "id": "42f62251",
   "metadata": {},
   "outputs": [
    {
     "data": {
      "text/plain": [
       "(1512, 1)"
      ]
     },
     "execution_count": 142,
     "metadata": {},
     "output_type": "execute_result"
    }
   ],
   "source": [
    "df1.shape"
   ]
  },
  {
   "cell_type": "code",
   "execution_count": 143,
   "id": "443833bf",
   "metadata": {},
   "outputs": [],
   "source": [
    "training_size=int(len(df1)*0.65)\n",
    "test_size=len(df1)-training_size\n",
    "train_data,test_data=df1[0:training_size,:],df1[training_size:len(df1),:1]"
   ]
  },
  {
   "cell_type": "code",
   "execution_count": 144,
   "id": "2b9676b6",
   "metadata": {},
   "outputs": [
    {
     "data": {
      "text/plain": [
       "(982, 530)"
      ]
     },
     "execution_count": 144,
     "metadata": {},
     "output_type": "execute_result"
    }
   ],
   "source": [
    "training_size,test_size"
   ]
  },
  {
   "cell_type": "code",
   "execution_count": 145,
   "id": "ebbabe15",
   "metadata": {},
   "outputs": [
    {
     "data": {
      "text/plain": [
       "(1512, 1)"
      ]
     },
     "execution_count": 145,
     "metadata": {},
     "output_type": "execute_result"
    }
   ],
   "source": [
    "df1.shape"
   ]
  },
  {
   "cell_type": "code",
   "execution_count": 146,
   "id": "11bdf31d",
   "metadata": {},
   "outputs": [],
   "source": [
    "import numpy as np\n",
    "#convert an array of values into a dataset matrix\n",
    "def create_dataset(dataset,time_step=1):\n",
    "    dataX, dataY = [], []\n",
    "    for i in range(len(dataset)-time_step-1):\n",
    "        a = dataset[i:(i+time_step),0] #i=0,1,2\n",
    "        dataX.append(a)\n",
    "        dataY.append(dataset[i+time_step,0])\n",
    "    return np.array(dataX),np.array(dataY)"
   ]
  },
  {
   "cell_type": "code",
   "execution_count": 147,
   "id": "0f298a80",
   "metadata": {},
   "outputs": [],
   "source": [
    "# reshape into X=t, t+1,t+2,t+3 and Y=t+4\n",
    "time_step = 100\n",
    "X_train, y_train = create_dataset(train_data, time_step)\n",
    "X_test, ytest = create_dataset(test_data, time_step)"
   ]
  },
  {
   "cell_type": "code",
   "execution_count": 148,
   "id": "f87ba903",
   "metadata": {},
   "outputs": [
    {
     "name": "stdout",
     "output_type": "stream",
     "text": [
      "[[0.04390693 0.04160643 0.03485825 ... 0.0899391  0.09245869 0.08606108]\n",
      " [0.04160643 0.03485825 0.03488017 ... 0.09245869 0.08606108 0.09136321]\n",
      " [0.03485825 0.03488017 0.0381447  ... 0.08606108 0.09136321 0.09079357]\n",
      " ...\n",
      " [0.2055563  0.20849218 0.20763771 ... 0.22323736 0.21134044 0.22144079]\n",
      " [0.20849218 0.20763771 0.21217298 ... 0.21134044 0.22144079 0.22608562]\n",
      " [0.20763771 0.21217298 0.20503045 ... 0.22144079 0.22608562 0.20928093]]\n"
     ]
    }
   ],
   "source": [
    "print(X_train)"
   ]
  },
  {
   "cell_type": "code",
   "execution_count": 149,
   "id": "c7604377",
   "metadata": {},
   "outputs": [
    {
     "name": "stdout",
     "output_type": "stream",
     "text": [
      "(881, 100)\n",
      "(881,)\n"
     ]
    },
    {
     "data": {
      "text/plain": [
       "(None, None)"
      ]
     },
     "execution_count": 149,
     "metadata": {},
     "output_type": "execute_result"
    }
   ],
   "source": [
    "print(X_train.shape), print(y_train.shape)"
   ]
  },
  {
   "cell_type": "code",
   "execution_count": 150,
   "id": "40f7e0b0",
   "metadata": {},
   "outputs": [
    {
     "name": "stdout",
     "output_type": "stream",
     "text": [
      "(429, 100)\n",
      "(429,)\n"
     ]
    },
    {
     "data": {
      "text/plain": [
       "(None, None)"
      ]
     },
     "execution_count": 150,
     "metadata": {},
     "output_type": "execute_result"
    }
   ],
   "source": [
    "print(X_test.shape), print(ytest.shape)"
   ]
  },
  {
   "cell_type": "code",
   "execution_count": 151,
   "id": "61f3a5d9",
   "metadata": {},
   "outputs": [],
   "source": [
    "# reshape input to be [sample, time steps, features] which is required for LSTM\n",
    "X_train = X_train.reshape(X_train.shape[0],X_train.shape[1] , 1)\n",
    "X_test = X_test.reshape(X_test.shape[0],X_test.shape[1] , 1)"
   ]
  },
  {
   "cell_type": "markdown",
   "id": "45adc8aa",
   "metadata": {},
   "source": [
    "# Model and validate data "
   ]
  },
  {
   "cell_type": "code",
   "execution_count": 152,
   "id": "d83e6ca6",
   "metadata": {},
   "outputs": [],
   "source": [
    "from tensorflow.keras.models import Sequential\n",
    "from tensorflow.keras.layers import Dense\n",
    "from tensorflow.keras.layers import LSTM"
   ]
  },
  {
   "cell_type": "code",
   "execution_count": 153,
   "id": "4f8e2873",
   "metadata": {},
   "outputs": [],
   "source": [
    "model=Sequential()\n",
    "model.add(LSTM(50,return_sequences=True,input_shape=(100,1)))\n",
    "model.add(LSTM(50,return_sequences=True))\n",
    "model.add(LSTM(50))\n",
    "model.add(Dense(1))\n",
    "model.compile(loss='mean_squared_error',optimizer='adam')"
   ]
  },
  {
   "cell_type": "code",
   "execution_count": 154,
   "id": "f79169ba",
   "metadata": {},
   "outputs": [
    {
     "name": "stdout",
     "output_type": "stream",
     "text": [
      "Model: \"sequential_2\"\n",
      "_________________________________________________________________\n",
      "Layer (type)                 Output Shape              Param #   \n",
      "=================================================================\n",
      "lstm_6 (LSTM)                (None, 100, 50)           10400     \n",
      "_________________________________________________________________\n",
      "lstm_7 (LSTM)                (None, 100, 50)           20200     \n",
      "_________________________________________________________________\n",
      "lstm_8 (LSTM)                (None, 50)                20200     \n",
      "_________________________________________________________________\n",
      "dense_2 (Dense)              (None, 1)                 51        \n",
      "=================================================================\n",
      "Total params: 50,851\n",
      "Trainable params: 50,851\n",
      "Non-trainable params: 0\n",
      "_________________________________________________________________\n"
     ]
    }
   ],
   "source": [
    "model.summary()"
   ]
  },
  {
   "cell_type": "code",
   "execution_count": 183,
   "id": "b501d22b",
   "metadata": {},
   "outputs": [
    {
     "name": "stdout",
     "output_type": "stream",
     "text": [
      "Epoch 1/100\n",
      "14/14 [==============================] - 4s 167ms/step - loss: 6.0036e-05 - val_loss: 8.8432e-04\n",
      "Epoch 2/100\n",
      "14/14 [==============================] - 2s 136ms/step - loss: 5.5383e-05 - val_loss: 7.4598e-04\n",
      "Epoch 3/100\n",
      "14/14 [==============================] - 2s 136ms/step - loss: 5.2094e-05 - val_loss: 0.0010\n",
      "Epoch 4/100\n",
      "14/14 [==============================] - 2s 133ms/step - loss: 5.7551e-05 - val_loss: 0.0013\n",
      "Epoch 5/100\n",
      "14/14 [==============================] - 2s 126ms/step - loss: 5.1172e-05 - val_loss: 9.1033e-04\n",
      "Epoch 6/100\n",
      "14/14 [==============================] - 2s 132ms/step - loss: 4.9279e-05 - val_loss: 9.2261e-04\n",
      "Epoch 7/100\n",
      "14/14 [==============================] - 2s 148ms/step - loss: 5.1572e-05 - val_loss: 5.4958e-04\n",
      "Epoch 8/100\n",
      "14/14 [==============================] - 2s 141ms/step - loss: 4.9309e-05 - val_loss: 5.8111e-04\n",
      "Epoch 9/100\n",
      "14/14 [==============================] - 2s 131ms/step - loss: 4.9220e-05 - val_loss: 5.9687e-04\n",
      "Epoch 10/100\n",
      "14/14 [==============================] - 2s 141ms/step - loss: 4.7805e-05 - val_loss: 5.4544e-04\n",
      "Epoch 11/100\n",
      "14/14 [==============================] - 2s 130ms/step - loss: 4.7274e-05 - val_loss: 5.3174e-04\n",
      "Epoch 12/100\n",
      "14/14 [==============================] - 2s 126ms/step - loss: 4.8339e-05 - val_loss: 5.4192e-04\n",
      "Epoch 13/100\n",
      "14/14 [==============================] - 2s 130ms/step - loss: 5.0386e-05 - val_loss: 5.9513e-04\n",
      "Epoch 14/100\n",
      "14/14 [==============================] - 2s 127ms/step - loss: 4.6775e-05 - val_loss: 7.1863e-04\n",
      "Epoch 15/100\n",
      "14/14 [==============================] - 2s 130ms/step - loss: 5.1892e-05 - val_loss: 6.4307e-04\n",
      "Epoch 16/100\n",
      "14/14 [==============================] - 2s 129ms/step - loss: 5.4256e-05 - val_loss: 7.3097e-04\n",
      "Epoch 17/100\n",
      "14/14 [==============================] - 2s 128ms/step - loss: 4.9305e-05 - val_loss: 0.0015\n",
      "Epoch 18/100\n",
      "14/14 [==============================] - 2s 128ms/step - loss: 6.6791e-05 - val_loss: 9.8976e-04\n",
      "Epoch 19/100\n",
      "14/14 [==============================] - 2s 128ms/step - loss: 5.4414e-05 - val_loss: 0.0011\n",
      "Epoch 20/100\n",
      "14/14 [==============================] - 2s 128ms/step - loss: 5.4139e-05 - val_loss: 7.1105e-04\n",
      "Epoch 21/100\n",
      "14/14 [==============================] - 2s 130ms/step - loss: 5.1639e-05 - val_loss: 4.8637e-04\n",
      "Epoch 22/100\n",
      "14/14 [==============================] - 2s 131ms/step - loss: 4.5710e-05 - val_loss: 5.4727e-04\n",
      "Epoch 23/100\n",
      "14/14 [==============================] - 2s 131ms/step - loss: 4.9865e-05 - val_loss: 8.7918e-04\n",
      "Epoch 24/100\n",
      "14/14 [==============================] - 2s 130ms/step - loss: 4.7873e-05 - val_loss: 6.6484e-04\n",
      "Epoch 25/100\n",
      "14/14 [==============================] - 2s 137ms/step - loss: 4.6476e-05 - val_loss: 4.8961e-04\n",
      "Epoch 26/100\n",
      "14/14 [==============================] - 2s 130ms/step - loss: 4.7820e-05 - val_loss: 4.8303e-04\n",
      "Epoch 27/100\n",
      "14/14 [==============================] - 2s 133ms/step - loss: 4.3081e-05 - val_loss: 5.4264e-04\n",
      "Epoch 28/100\n",
      "14/14 [==============================] - 2s 132ms/step - loss: 4.6695e-05 - val_loss: 4.8160e-04\n",
      "Epoch 29/100\n",
      "14/14 [==============================] - 2s 140ms/step - loss: 4.4560e-05 - val_loss: 5.2089e-04\n",
      "Epoch 30/100\n",
      "14/14 [==============================] - 2s 135ms/step - loss: 4.5188e-05 - val_loss: 5.2309e-04\n",
      "Epoch 31/100\n",
      "14/14 [==============================] - 2s 137ms/step - loss: 4.5450e-05 - val_loss: 4.7093e-04\n",
      "Epoch 32/100\n",
      "14/14 [==============================] - 2s 137ms/step - loss: 4.3084e-05 - val_loss: 4.6856e-04\n",
      "Epoch 33/100\n",
      "14/14 [==============================] - 2s 135ms/step - loss: 4.8369e-05 - val_loss: 5.6342e-04\n",
      "Epoch 34/100\n",
      "14/14 [==============================] - 2s 142ms/step - loss: 5.0231e-05 - val_loss: 6.5145e-04\n",
      "Epoch 35/100\n",
      "14/14 [==============================] - 2s 149ms/step - loss: 4.5312e-05 - val_loss: 7.5402e-04\n",
      "Epoch 36/100\n",
      "14/14 [==============================] - 2s 151ms/step - loss: 4.8331e-05 - val_loss: 6.9583e-04\n",
      "Epoch 37/100\n",
      "14/14 [==============================] - 2s 135ms/step - loss: 4.1505e-05 - val_loss: 5.9812e-04\n",
      "Epoch 38/100\n",
      "14/14 [==============================] - 2s 136ms/step - loss: 4.0899e-05 - val_loss: 8.0250e-04\n",
      "Epoch 39/100\n",
      "14/14 [==============================] - 2s 135ms/step - loss: 4.2883e-05 - val_loss: 6.2243e-04\n",
      "Epoch 40/100\n",
      "14/14 [==============================] - 2s 136ms/step - loss: 4.2760e-05 - val_loss: 4.7730e-04\n",
      "Epoch 41/100\n",
      "14/14 [==============================] - 2s 136ms/step - loss: 4.7419e-05 - val_loss: 6.8126e-04\n",
      "Epoch 42/100\n",
      "14/14 [==============================] - 2s 144ms/step - loss: 4.5353e-05 - val_loss: 5.6920e-04\n",
      "Epoch 43/100\n",
      "14/14 [==============================] - 2s 148ms/step - loss: 4.5461e-05 - val_loss: 4.3237e-04\n",
      "Epoch 44/100\n",
      "14/14 [==============================] - 2s 136ms/step - loss: 5.3463e-05 - val_loss: 8.0886e-04\n",
      "Epoch 45/100\n",
      "14/14 [==============================] - 2s 139ms/step - loss: 4.6545e-05 - val_loss: 4.1305e-04\n",
      "Epoch 46/100\n",
      "14/14 [==============================] - 2s 136ms/step - loss: 4.0128e-05 - val_loss: 4.1169e-04\n",
      "Epoch 47/100\n",
      "14/14 [==============================] - 2s 145ms/step - loss: 4.1076e-05 - val_loss: 4.1514e-04\n",
      "Epoch 48/100\n",
      "14/14 [==============================] - 2s 146ms/step - loss: 4.2662e-05 - val_loss: 4.9742e-04\n",
      "Epoch 49/100\n",
      "14/14 [==============================] - 2s 136ms/step - loss: 4.3495e-05 - val_loss: 4.5001e-04\n",
      "Epoch 50/100\n",
      "14/14 [==============================] - 2s 134ms/step - loss: 4.6199e-05 - val_loss: 4.2830e-04\n",
      "Epoch 51/100\n",
      "14/14 [==============================] - 2s 139ms/step - loss: 4.0382e-05 - val_loss: 4.1259e-04\n",
      "Epoch 52/100\n",
      "14/14 [==============================] - 2s 136ms/step - loss: 3.9942e-05 - val_loss: 4.6357e-04\n",
      "Epoch 53/100\n",
      "14/14 [==============================] - 2s 140ms/step - loss: 4.0929e-05 - val_loss: 4.8395e-04\n",
      "Epoch 54/100\n",
      "14/14 [==============================] - 2s 147ms/step - loss: 4.7707e-05 - val_loss: 6.3729e-04\n",
      "Epoch 55/100\n",
      "14/14 [==============================] - 2s 135ms/step - loss: 4.0669e-05 - val_loss: 4.0927e-04\n",
      "Epoch 56/100\n",
      "14/14 [==============================] - 2s 134ms/step - loss: 4.0721e-05 - val_loss: 9.4818e-04\n",
      "Epoch 57/100\n",
      "14/14 [==============================] - 2s 132ms/step - loss: 4.3436e-05 - val_loss: 6.9248e-04\n",
      "Epoch 58/100\n",
      "14/14 [==============================] - 2s 160ms/step - loss: 4.6899e-05 - val_loss: 8.7210e-04\n",
      "Epoch 59/100\n",
      "14/14 [==============================] - 2s 136ms/step - loss: 4.4044e-05 - val_loss: 6.6578e-04\n",
      "Epoch 60/100\n",
      "14/14 [==============================] - 2s 140ms/step - loss: 5.1819e-05 - val_loss: 4.9061e-04\n",
      "Epoch 61/100\n",
      "14/14 [==============================] - 2s 140ms/step - loss: 3.8788e-05 - val_loss: 3.9625e-04\n",
      "Epoch 62/100\n",
      "14/14 [==============================] - 2s 139ms/step - loss: 3.8594e-05 - val_loss: 4.3912e-04\n",
      "Epoch 63/100\n",
      "14/14 [==============================] - 2s 141ms/step - loss: 3.7496e-05 - val_loss: 5.1910e-04\n",
      "Epoch 64/100\n",
      "14/14 [==============================] - 2s 138ms/step - loss: 3.9975e-05 - val_loss: 4.8407e-04\n",
      "Epoch 65/100\n",
      "14/14 [==============================] - 2s 155ms/step - loss: 3.7934e-05 - val_loss: 3.9407e-04\n",
      "Epoch 66/100\n",
      "14/14 [==============================] - 2s 150ms/step - loss: 3.5829e-05 - val_loss: 4.3632e-04\n",
      "Epoch 67/100\n",
      "14/14 [==============================] - 2s 155ms/step - loss: 3.6541e-05 - val_loss: 3.9802e-04\n",
      "Epoch 68/100\n",
      "14/14 [==============================] - 2s 141ms/step - loss: 3.5183e-05 - val_loss: 4.5832e-04\n",
      "Epoch 69/100\n",
      "14/14 [==============================] - 2s 137ms/step - loss: 3.7259e-05 - val_loss: 3.9521e-04\n",
      "Epoch 70/100\n",
      "14/14 [==============================] - 2s 165ms/step - loss: 3.9077e-05 - val_loss: 4.1732e-04\n",
      "Epoch 71/100\n",
      "14/14 [==============================] - 2s 167ms/step - loss: 5.4057e-05 - val_loss: 6.5231e-04\n",
      "Epoch 72/100\n",
      "14/14 [==============================] - 2s 160ms/step - loss: 3.9467e-05 - val_loss: 4.1768e-04\n",
      "Epoch 73/100\n",
      "14/14 [==============================] - 2s 143ms/step - loss: 4.2242e-05 - val_loss: 4.6771e-04\n",
      "Epoch 74/100\n",
      "14/14 [==============================] - 2s 153ms/step - loss: 3.7918e-05 - val_loss: 0.0012\n",
      "Epoch 75/100\n",
      "14/14 [==============================] - 2s 153ms/step - loss: 4.3561e-05 - val_loss: 4.3243e-04\n",
      "Epoch 76/100\n",
      "14/14 [==============================] - 2s 156ms/step - loss: 3.7499e-05 - val_loss: 3.7215e-04\n",
      "Epoch 77/100\n",
      "14/14 [==============================] - 2s 157ms/step - loss: 4.3288e-05 - val_loss: 3.7089e-04\n",
      "Epoch 78/100\n",
      "14/14 [==============================] - 2s 147ms/step - loss: 4.5138e-05 - val_loss: 3.7112e-04\n",
      "Epoch 79/100\n",
      "14/14 [==============================] - 2s 156ms/step - loss: 4.0907e-05 - val_loss: 4.4756e-04\n",
      "Epoch 80/100\n",
      "14/14 [==============================] - 2s 141ms/step - loss: 3.5361e-05 - val_loss: 3.8030e-04\n",
      "Epoch 81/100\n",
      "14/14 [==============================] - 2s 153ms/step - loss: 3.5315e-05 - val_loss: 3.8478e-04\n",
      "Epoch 82/100\n",
      "14/14 [==============================] - 2s 148ms/step - loss: 3.2258e-05 - val_loss: 3.7709e-04\n",
      "Epoch 83/100\n",
      "14/14 [==============================] - 2s 143ms/step - loss: 3.3255e-05 - val_loss: 3.8492e-04\n",
      "Epoch 84/100\n",
      "14/14 [==============================] - 3s 187ms/step - loss: 4.0166e-05 - val_loss: 4.3077e-04\n",
      "Epoch 85/100\n",
      "14/14 [==============================] - 2s 157ms/step - loss: 3.4843e-05 - val_loss: 3.7907e-04\n",
      "Epoch 86/100\n",
      "14/14 [==============================] - 2s 175ms/step - loss: 3.3330e-05 - val_loss: 3.8550e-04\n",
      "Epoch 87/100\n",
      "14/14 [==============================] - 2s 159ms/step - loss: 3.4067e-05 - val_loss: 3.9665e-04\n",
      "Epoch 88/100\n",
      "14/14 [==============================] - 2s 156ms/step - loss: 3.2195e-05 - val_loss: 3.9798e-04\n",
      "Epoch 89/100\n",
      "14/14 [==============================] - 3s 200ms/step - loss: 3.3036e-05 - val_loss: 4.7900e-04\n",
      "Epoch 90/100\n",
      "14/14 [==============================] - 2s 152ms/step - loss: 3.3104e-05 - val_loss: 5.3651e-04\n",
      "Epoch 91/100\n",
      "14/14 [==============================] - 3s 201ms/step - loss: 3.6594e-05 - val_loss: 5.9620e-04\n",
      "Epoch 92/100\n",
      "14/14 [==============================] - 3s 195ms/step - loss: 3.3673e-05 - val_loss: 4.6113e-04\n",
      "Epoch 93/100\n",
      "14/14 [==============================] - 2s 171ms/step - loss: 3.5124e-05 - val_loss: 3.8719e-04\n",
      "Epoch 94/100\n",
      "14/14 [==============================] - 3s 240ms/step - loss: 3.6887e-05 - val_loss: 4.3525e-04\n",
      "Epoch 95/100\n",
      "14/14 [==============================] - 3s 195ms/step - loss: 3.7907e-05 - val_loss: 4.1536e-04\n",
      "Epoch 96/100\n",
      "14/14 [==============================] - 2s 173ms/step - loss: 4.3983e-05 - val_loss: 3.8790e-04\n",
      "Epoch 97/100\n",
      "14/14 [==============================] - 3s 203ms/step - loss: 3.4469e-05 - val_loss: 4.0473e-04\n",
      "Epoch 98/100\n",
      "14/14 [==============================] - 2s 175ms/step - loss: 3.1780e-05 - val_loss: 3.8963e-04\n",
      "Epoch 99/100\n",
      "14/14 [==============================] - 2s 166ms/step - loss: 3.0928e-05 - val_loss: 3.8373e-04\n",
      "Epoch 100/100\n",
      "14/14 [==============================] - 3s 223ms/step - loss: 3.0429e-05 - val_loss: 4.3122e-04\n"
     ]
    },
    {
     "data": {
      "text/plain": [
       "<keras.callbacks.History at 0x1d6cdf1b130>"
      ]
     },
     "execution_count": 183,
     "metadata": {},
     "output_type": "execute_result"
    }
   ],
   "source": [
    "model.fit(X_train,y_train,validation_data=(X_test,ytest),epochs=100,batch_size=64,verbose=1)"
   ]
  },
  {
   "cell_type": "code",
   "execution_count": 184,
   "id": "83584b9f",
   "metadata": {},
   "outputs": [],
   "source": [
    "#let to prediction and check performance metrics\n",
    "train_predict=model.predict(X_train)\n",
    "test_predict=model.predict(X_test)"
   ]
  },
  {
   "cell_type": "code",
   "execution_count": 185,
   "id": "0ced54a3",
   "metadata": {},
   "outputs": [],
   "source": [
    "##Transformback to original form\n",
    "train_predict=scaler.inverse_transform(train_predict)\n",
    "test_predict=scaler.inverse_transform(test_predict)"
   ]
  },
  {
   "cell_type": "code",
   "execution_count": 186,
   "id": "b173f4a2",
   "metadata": {},
   "outputs": [
    {
     "data": {
      "text/plain": [
       "36.31433220612452"
      ]
     },
     "execution_count": 186,
     "metadata": {},
     "output_type": "execute_result"
    }
   ],
   "source": [
    "###Calculator RMSE performance metrics\n",
    "import math\n",
    "from sklearn.metrics import mean_squared_error\n",
    "math.sqrt(mean_squared_error(y_train,train_predict))"
   ]
  },
  {
   "cell_type": "code",
   "execution_count": 187,
   "id": "75b19b74",
   "metadata": {},
   "outputs": [
    {
     "data": {
      "text/plain": [
       "81.67553457546316"
      ]
     },
     "execution_count": 187,
     "metadata": {},
     "output_type": "execute_result"
    }
   ],
   "source": [
    "# Test Data RMSE\n",
    "math.sqrt(mean_squared_error(ytest,test_predict))\n"
   ]
  },
  {
   "cell_type": "code",
   "execution_count": 188,
   "id": "9c128ed2",
   "metadata": {},
   "outputs": [],
   "source": [
    "import numpy as np"
   ]
  },
  {
   "cell_type": "code",
   "execution_count": 189,
   "id": "0fb09ff7",
   "metadata": {},
   "outputs": [
    {
     "data": {
      "text/plain": [
       "<function matplotlib.pyplot.show(close=None, block=None)>"
      ]
     },
     "execution_count": 189,
     "metadata": {},
     "output_type": "execute_result"
    },
    {
     "data": {
      "image/png": "[encoded data removed]",
      "text/plain": [
       "<Figure size 432x288 with 1 Axes>"
      ]
     },
     "metadata": {
      "needs_background": "light"
     },
     "output_type": "display_data"
    }
   ],
   "source": [
    "### Plotting\n",
    "# shift train predictions for plotting\n",
    "look_back=100\n",
    "trainPredictPlot = np.empty_like(df1)\n",
    "trainPredictPlot[:, :] = np.nan\n",
    "trainPredictPlot[look_back:len(train_predict)+look_back, :] = train_predict\n",
    "# shift test predictions for plotting\n",
    "testPredictPlot = np.empty_like(df1)\n",
    "testPredictPlot[:, :] = np.nan\n",
    "testPredictPlot[len(train_predict)+(look_back*2)+1:len(df1)-1, :] = test_predict\n",
    "# Plot baseline and predictiond\n",
    "plt.plot(scaler.inverse_transform(df1))\n",
    "plt.plot(trainPredictPlot)\n",
    "plt.plot(testPredictPlot)\n",
    "plt.show"
   ]
  },
  {
   "cell_type": "code",
   "execution_count": 190,
   "id": "c4d11755",
   "metadata": {},
   "outputs": [
    {
     "data": {
      "text/plain": [
       "[<matplotlib.lines.Line2D at 0x1d6cdec3580>,\n",
       " <matplotlib.lines.Line2D at 0x1d6cdec3cd0>]"
      ]
     },
     "execution_count": 190,
     "metadata": {},
     "output_type": "execute_result"
    },
    {
     "data": {
      "image/png": "[encoded data removed]",
      "text/plain": [
       "<Figure size 864x432 with 1 Axes>"
      ]
     },
     "metadata": {
      "needs_background": "light"
     },
     "output_type": "display_data"
    }
   ],
   "source": [
    "plt.figure(figsize = (12,6))\n",
    "plt.plot(df1)\n",
    "plt.plot(trainPredictPlot,'r',testPredictPlot,'g')"
   ]
  },
  {
   "cell_type": "code",
   "execution_count": 191,
   "id": "d87b4e6c",
   "metadata": {},
   "outputs": [
    {
     "data": {
      "text/plain": [
       "530"
      ]
     },
     "execution_count": 191,
     "metadata": {},
     "output_type": "execute_result"
    }
   ],
   "source": [
    "len(test_data)"
   ]
  },
  {
   "cell_type": "code",
   "execution_count": 192,
   "id": "6c55cfb8",
   "metadata": {},
   "outputs": [
    {
     "data": {
      "text/plain": [
       "(1, 100)"
      ]
     },
     "execution_count": 192,
     "metadata": {},
     "output_type": "execute_result"
    }
   ],
   "source": [
    "x_input=test_data[430:].reshape(1,-1)\n",
    "x_input.shape"
   ]
  },
  {
   "cell_type": "code",
   "execution_count": 193,
   "id": "4c818b84",
   "metadata": {},
   "outputs": [],
   "source": [
    "temp_input=list(x_input)\n",
    "temp_input=temp_input[0].tolist()"
   ]
  },
  {
   "cell_type": "code",
   "execution_count": 194,
   "id": "895d34fe",
   "metadata": {},
   "outputs": [
    {
     "data": {
      "text/plain": [
       "[0.7606152084675745,\n",
       " 0.7924718495375525,\n",
       " 0.8099995647223438,\n",
       " 0.809101261295572,\n",
       " 0.8064720772726824,\n",
       " 0.814841577320523,\n",
       " 0.8161123072517323,\n",
       " 0.8386135544124816,\n",
       " 0.8920292771362018,\n",
       " 0.9050654751871342,\n",
       " 0.8960167815249173,\n",
       " 0.9108934485096286,\n",
       " 0.8976381406463009,\n",
       " 0.895863464832875,\n",
       " 0.9329564091826602,\n",
       " 0.9780026318585399,\n",
       " 0.9536391184497482,\n",
       " 0.8614433659974333,\n",
       " 0.8621444906519274,\n",
       " 0.7908066951988606,\n",
       " 0.8302440543646413,\n",
       " 0.7966784637386632,\n",
       " 0.7836203346476133,\n",
       " 0.8130669015070969,\n",
       " 0.8146443985482453,\n",
       " 0.7847596120639708,\n",
       " 0.7690722989500313,\n",
       " 0.7383987973766464,\n",
       " 0.7667937441173159,\n",
       " 0.7819551803089213,\n",
       " 0.7408527336673759,\n",
       " 0.7504929636464258,\n",
       " 0.7860742040754156,\n",
       " 0.8095613450975533,\n",
       " 0.8019367649215152,\n",
       " 0.8170106106785041,\n",
       " 0.8255992205387398,\n",
       " 0.7925594399721688,\n",
       " 0.8230576938133939,\n",
       " 0.7937864415489972,\n",
       " 0.8106130320792945,\n",
       " 0.8096490023950967,\n",
       " 0.8271767175798882,\n",
       " 0.8922921821659054,\n",
       " 0.8633714253658288,\n",
       " 0.8641602073178664,\n",
       " 0.8599535262538286,\n",
       " 0.8451425855265432,\n",
       " 0.818500517285036,\n",
       " 0.8319092087033332,\n",
       " 0.8263003451932341,\n",
       " 0.8164848006190971,\n",
       " 0.8102624697520474,\n",
       " 0.8103501270495911,\n",
       " 0.8239340662000479,\n",
       " 0.7766092218285258,\n",
       " 0.8127163391798499,\n",
       " 0.7561018271565249,\n",
       " 0.7553130452044872,\n",
       " 0.7699487381996126,\n",
       " 0.8094736878000096,\n",
       " 0.8452302428240867,\n",
       " 0.8422505633368772,\n",
       " 0.8214801967722455,\n",
       " 0.8184128599874926,\n",
       " 0.8492616092930375,\n",
       " 0.846807739865235,\n",
       " 0.8472459594900256,\n",
       " 0.8563603794096685,\n",
       " 0.8483852369063832,\n",
       " 0.836466385231691,\n",
       " 0.8418123437120865,\n",
       " 0.8304193020968013,\n",
       " 0.7998334578209598,\n",
       " 0.8114017471684051,\n",
       " 0.8189386700468996,\n",
       " 0.8238464089025045,\n",
       " 0.8454055574191738,\n",
       " 0.8775688987361635,\n",
       " 0.8807238928184601,\n",
       " 0.879496958104559,\n",
       " 0.8734498749696692,\n",
       " 0.8865956613582627,\n",
       " 0.8921168675708183,\n",
       " 0.8693308512031749,\n",
       " 0.8821260752645214,\n",
       " 0.8748521242786577,\n",
       " 0.8693308512031749,\n",
       " 0.9227903691442033,\n",
       " 0.9221769017872526,\n",
       " 0.9299767296954505,\n",
       " 0.9120985190463392,\n",
       " 0.9258577059289562,\n",
       " 0.9578458663767132,\n",
       " 0.9497831334388117,\n",
       " 0.9586345814658238,\n",
       " 0.9999999999999999,\n",
       " 0.9840497149934296,\n",
       " 0.9739713322525162,\n",
       " 0.964944569630417]"
      ]
     },
     "execution_count": 194,
     "metadata": {},
     "output_type": "execute_result"
    }
   ],
   "source": [
    "temp_input"
   ]
  },
  {
   "cell_type": "markdown",
   "id": "bf3b3723",
   "metadata": {},
   "source": [
    "# Predictions "
   ]
  },
  {
   "cell_type": "code",
   "execution_count": 195,
   "id": "94d32c80",
   "metadata": {},
   "outputs": [
    {
     "name": "stdout",
     "output_type": "stream",
     "text": [
      "[0.9773255]\n",
      "101\n",
      "1 day input [0.79247185 0.80999956 0.80910126 0.80647208 0.81484158 0.81611231\n",
      " 0.83861355 0.89202928 0.90506548 0.89601678 0.91089345 0.89763814\n",
      " 0.89586346 0.93295641 0.97800263 0.95363912 0.86144337 0.86214449\n",
      " 0.7908067  0.83024405 0.79667846 0.78362033 0.8130669  0.8146444\n",
      " 0.78475961 0.7690723  0.7383988  0.76679374 0.78195518 0.74085273\n",
      " 0.75049296 0.7860742  0.80956135 0.80193676 0.81701061 0.82559922\n",
      " 0.79255944 0.82305769 0.79378644 0.81061303 0.809649   0.82717672\n",
      " 0.89229218 0.86337143 0.86416021 0.85995353 0.84514259 0.81850052\n",
      " 0.83190921 0.82630035 0.8164848  0.81026247 0.81035013 0.82393407\n",
      " 0.77660922 0.81271634 0.75610183 0.75531305 0.76994874 0.80947369\n",
      " 0.84523024 0.84225056 0.8214802  0.81841286 0.84926161 0.84680774\n",
      " 0.84724596 0.85636038 0.84838524 0.83646639 0.84181234 0.8304193\n",
      " 0.79983346 0.81140175 0.81893867 0.82384641 0.84540556 0.8775689\n",
      " 0.88072389 0.87949696 0.87344987 0.88659566 0.89211687 0.86933085\n",
      " 0.88212608 0.87485212 0.86933085 0.92279037 0.9221769  0.92997673\n",
      " 0.91209852 0.92585771 0.95784587 0.94978313 0.95863458 1.\n",
      " 0.98404971 0.97397133 0.96494457 0.9773255 ]\n",
      "1 day output [[0.9905641]]\n",
      "2 day input [0.80999956 0.80910126 0.80647208 0.81484158 0.81611231 0.83861355\n",
      " 0.89202928 0.90506548 0.89601678 0.91089345 0.89763814 0.89586346\n",
      " 0.93295641 0.97800263 0.95363912 0.86144337 0.86214449 0.7908067\n",
      " 0.83024405 0.79667846 0.78362033 0.8130669  0.8146444  0.78475961\n",
      " 0.7690723  0.7383988  0.76679374 0.78195518 0.74085273 0.75049296\n",
      " 0.7860742  0.80956135 0.80193676 0.81701061 0.82559922 0.79255944\n",
      " 0.82305769 0.79378644 0.81061303 0.809649   0.82717672 0.89229218\n",
      " 0.86337143 0.86416021 0.85995353 0.84514259 0.81850052 0.83190921\n",
      " 0.82630035 0.8164848  0.81026247 0.81035013 0.82393407 0.77660922\n",
      " 0.81271634 0.75610183 0.75531305 0.76994874 0.80947369 0.84523024\n",
      " 0.84225056 0.8214802  0.81841286 0.84926161 0.84680774 0.84724596\n",
      " 0.85636038 0.84838524 0.83646639 0.84181234 0.8304193  0.79983346\n",
      " 0.81140175 0.81893867 0.82384641 0.84540556 0.8775689  0.88072389\n",
      " 0.87949696 0.87344987 0.88659566 0.89211687 0.86933085 0.88212608\n",
      " 0.87485212 0.86933085 0.92279037 0.9221769  0.92997673 0.91209852\n",
      " 0.92585771 0.95784587 0.94978313 0.95863458 1.         0.98404971\n",
      " 0.97397133 0.96494457 0.9773255  0.99056411]\n",
      "2 day output [[0.99809223]]\n",
      "3 day input [0.80910126 0.80647208 0.81484158 0.81611231 0.83861355 0.89202928\n",
      " 0.90506548 0.89601678 0.91089345 0.89763814 0.89586346 0.93295641\n",
      " 0.97800263 0.95363912 0.86144337 0.86214449 0.7908067  0.83024405\n",
      " 0.79667846 0.78362033 0.8130669  0.8146444  0.78475961 0.7690723\n",
      " 0.7383988  0.76679374 0.78195518 0.74085273 0.75049296 0.7860742\n",
      " 0.80956135 0.80193676 0.81701061 0.82559922 0.79255944 0.82305769\n",
      " 0.79378644 0.81061303 0.809649   0.82717672 0.89229218 0.86337143\n",
      " 0.86416021 0.85995353 0.84514259 0.81850052 0.83190921 0.82630035\n",
      " 0.8164848  0.81026247 0.81035013 0.82393407 0.77660922 0.81271634\n",
      " 0.75610183 0.75531305 0.76994874 0.80947369 0.84523024 0.84225056\n",
      " 0.8214802  0.81841286 0.84926161 0.84680774 0.84724596 0.85636038\n",
      " 0.84838524 0.83646639 0.84181234 0.8304193  0.79983346 0.81140175\n",
      " 0.81893867 0.82384641 0.84540556 0.8775689  0.88072389 0.87949696\n",
      " 0.87344987 0.88659566 0.89211687 0.86933085 0.88212608 0.87485212\n",
      " 0.86933085 0.92279037 0.9221769  0.92997673 0.91209852 0.92585771\n",
      " 0.95784587 0.94978313 0.95863458 1.         0.98404971 0.97397133\n",
      " 0.96494457 0.9773255  0.99056411 0.99809223]\n",
      "3 day output [[1.0052973]]\n",
      "4 day input [0.80647208 0.81484158 0.81611231 0.83861355 0.89202928 0.90506548\n",
      " 0.89601678 0.91089345 0.89763814 0.89586346 0.93295641 0.97800263\n",
      " 0.95363912 0.86144337 0.86214449 0.7908067  0.83024405 0.79667846\n",
      " 0.78362033 0.8130669  0.8146444  0.78475961 0.7690723  0.7383988\n",
      " 0.76679374 0.78195518 0.74085273 0.75049296 0.7860742  0.80956135\n",
      " 0.80193676 0.81701061 0.82559922 0.79255944 0.82305769 0.79378644\n",
      " 0.81061303 0.809649   0.82717672 0.89229218 0.86337143 0.86416021\n",
      " 0.85995353 0.84514259 0.81850052 0.83190921 0.82630035 0.8164848\n",
      " 0.81026247 0.81035013 0.82393407 0.77660922 0.81271634 0.75610183\n",
      " 0.75531305 0.76994874 0.80947369 0.84523024 0.84225056 0.8214802\n",
      " 0.81841286 0.84926161 0.84680774 0.84724596 0.85636038 0.84838524\n",
      " 0.83646639 0.84181234 0.8304193  0.79983346 0.81140175 0.81893867\n",
      " 0.82384641 0.84540556 0.8775689  0.88072389 0.87949696 0.87344987\n",
      " 0.88659566 0.89211687 0.86933085 0.88212608 0.87485212 0.86933085\n",
      " 0.92279037 0.9221769  0.92997673 0.91209852 0.92585771 0.95784587\n",
      " 0.94978313 0.95863458 1.         0.98404971 0.97397133 0.96494457\n",
      " 0.9773255  0.99056411 0.99809223 1.0052973 ]\n",
      "4 day output [[1.0122943]]\n",
      "5 day input [0.81484158 0.81611231 0.83861355 0.89202928 0.90506548 0.89601678\n",
      " 0.91089345 0.89763814 0.89586346 0.93295641 0.97800263 0.95363912\n",
      " 0.86144337 0.86214449 0.7908067  0.83024405 0.79667846 0.78362033\n",
      " 0.8130669  0.8146444  0.78475961 0.7690723  0.7383988  0.76679374\n",
      " 0.78195518 0.74085273 0.75049296 0.7860742  0.80956135 0.80193676\n",
      " 0.81701061 0.82559922 0.79255944 0.82305769 0.79378644 0.81061303\n",
      " 0.809649   0.82717672 0.89229218 0.86337143 0.86416021 0.85995353\n",
      " 0.84514259 0.81850052 0.83190921 0.82630035 0.8164848  0.81026247\n",
      " 0.81035013 0.82393407 0.77660922 0.81271634 0.75610183 0.75531305\n",
      " 0.76994874 0.80947369 0.84523024 0.84225056 0.8214802  0.81841286\n",
      " 0.84926161 0.84680774 0.84724596 0.85636038 0.84838524 0.83646639\n",
      " 0.84181234 0.8304193  0.79983346 0.81140175 0.81893867 0.82384641\n",
      " 0.84540556 0.8775689  0.88072389 0.87949696 0.87344987 0.88659566\n",
      " 0.89211687 0.86933085 0.88212608 0.87485212 0.86933085 0.92279037\n",
      " 0.9221769  0.92997673 0.91209852 0.92585771 0.95784587 0.94978313\n",
      " 0.95863458 1.         0.98404971 0.97397133 0.96494457 0.9773255\n",
      " 0.99056411 0.99809223 1.0052973  1.01229429]\n",
      "5 day output [[1.0192118]]\n",
      "6 day input [0.81611231 0.83861355 0.89202928 0.90506548 0.89601678 0.91089345\n",
      " 0.89763814 0.89586346 0.93295641 0.97800263 0.95363912 0.86144337\n",
      " 0.86214449 0.7908067  0.83024405 0.79667846 0.78362033 0.8130669\n",
      " 0.8146444  0.78475961 0.7690723  0.7383988  0.76679374 0.78195518\n",
      " 0.74085273 0.75049296 0.7860742  0.80956135 0.80193676 0.81701061\n",
      " 0.82559922 0.79255944 0.82305769 0.79378644 0.81061303 0.809649\n",
      " 0.82717672 0.89229218 0.86337143 0.86416021 0.85995353 0.84514259\n",
      " 0.81850052 0.83190921 0.82630035 0.8164848  0.81026247 0.81035013\n",
      " 0.82393407 0.77660922 0.81271634 0.75610183 0.75531305 0.76994874\n",
      " 0.80947369 0.84523024 0.84225056 0.8214802  0.81841286 0.84926161\n",
      " 0.84680774 0.84724596 0.85636038 0.84838524 0.83646639 0.84181234\n",
      " 0.8304193  0.79983346 0.81140175 0.81893867 0.82384641 0.84540556\n",
      " 0.8775689  0.88072389 0.87949696 0.87344987 0.88659566 0.89211687\n",
      " 0.86933085 0.88212608 0.87485212 0.86933085 0.92279037 0.9221769\n",
      " 0.92997673 0.91209852 0.92585771 0.95784587 0.94978313 0.95863458\n",
      " 1.         0.98404971 0.97397133 0.96494457 0.9773255  0.99056411\n",
      " 0.99809223 1.0052973  1.01229429 1.01921177]\n",
      "6 day output [[1.0261741]]\n",
      "7 day input [0.83861355 0.89202928 0.90506548 0.89601678 0.91089345 0.89763814\n",
      " 0.89586346 0.93295641 0.97800263 0.95363912 0.86144337 0.86214449\n",
      " 0.7908067  0.83024405 0.79667846 0.78362033 0.8130669  0.8146444\n",
      " 0.78475961 0.7690723  0.7383988  0.76679374 0.78195518 0.74085273\n",
      " 0.75049296 0.7860742  0.80956135 0.80193676 0.81701061 0.82559922\n",
      " 0.79255944 0.82305769 0.79378644 0.81061303 0.809649   0.82717672\n",
      " 0.89229218 0.86337143 0.86416021 0.85995353 0.84514259 0.81850052\n",
      " 0.83190921 0.82630035 0.8164848  0.81026247 0.81035013 0.82393407\n",
      " 0.77660922 0.81271634 0.75610183 0.75531305 0.76994874 0.80947369\n",
      " 0.84523024 0.84225056 0.8214802  0.81841286 0.84926161 0.84680774\n",
      " 0.84724596 0.85636038 0.84838524 0.83646639 0.84181234 0.8304193\n",
      " 0.79983346 0.81140175 0.81893867 0.82384641 0.84540556 0.8775689\n",
      " 0.88072389 0.87949696 0.87344987 0.88659566 0.89211687 0.86933085\n",
      " 0.88212608 0.87485212 0.86933085 0.92279037 0.9221769  0.92997673\n",
      " 0.91209852 0.92585771 0.95784587 0.94978313 0.95863458 1.\n",
      " 0.98404971 0.97397133 0.96494457 0.9773255  0.99056411 0.99809223\n",
      " 1.0052973  1.01229429 1.01921177 1.02617407]\n",
      "7 day output [[1.0332334]]\n",
      "8 day input [0.89202928 0.90506548 0.89601678 0.91089345 0.89763814 0.89586346\n",
      " 0.93295641 0.97800263 0.95363912 0.86144337 0.86214449 0.7908067\n",
      " 0.83024405 0.79667846 0.78362033 0.8130669  0.8146444  0.78475961\n",
      " 0.7690723  0.7383988  0.76679374 0.78195518 0.74085273 0.75049296\n",
      " 0.7860742  0.80956135 0.80193676 0.81701061 0.82559922 0.79255944\n",
      " 0.82305769 0.79378644 0.81061303 0.809649   0.82717672 0.89229218\n",
      " 0.86337143 0.86416021 0.85995353 0.84514259 0.81850052 0.83190921\n",
      " 0.82630035 0.8164848  0.81026247 0.81035013 0.82393407 0.77660922\n",
      " 0.81271634 0.75610183 0.75531305 0.76994874 0.80947369 0.84523024\n",
      " 0.84225056 0.8214802  0.81841286 0.84926161 0.84680774 0.84724596\n",
      " 0.85636038 0.84838524 0.83646639 0.84181234 0.8304193  0.79983346\n",
      " 0.81140175 0.81893867 0.82384641 0.84540556 0.8775689  0.88072389\n",
      " 0.87949696 0.87344987 0.88659566 0.89211687 0.86933085 0.88212608\n",
      " 0.87485212 0.86933085 0.92279037 0.9221769  0.92997673 0.91209852\n",
      " 0.92585771 0.95784587 0.94978313 0.95863458 1.         0.98404971\n",
      " 0.97397133 0.96494457 0.9773255  0.99056411 0.99809223 1.0052973\n",
      " 1.01229429 1.01921177 1.02617407 1.0332334 ]\n",
      "8 day output [[1.0404147]]\n",
      "9 day input [0.90506548 0.89601678 0.91089345 0.89763814 0.89586346 0.93295641\n",
      " 0.97800263 0.95363912 0.86144337 0.86214449 0.7908067  0.83024405\n",
      " 0.79667846 0.78362033 0.8130669  0.8146444  0.78475961 0.7690723\n",
      " 0.7383988  0.76679374 0.78195518 0.74085273 0.75049296 0.7860742\n",
      " 0.80956135 0.80193676 0.81701061 0.82559922 0.79255944 0.82305769\n",
      " 0.79378644 0.81061303 0.809649   0.82717672 0.89229218 0.86337143\n",
      " 0.86416021 0.85995353 0.84514259 0.81850052 0.83190921 0.82630035\n",
      " 0.8164848  0.81026247 0.81035013 0.82393407 0.77660922 0.81271634\n",
      " 0.75610183 0.75531305 0.76994874 0.80947369 0.84523024 0.84225056\n",
      " 0.8214802  0.81841286 0.84926161 0.84680774 0.84724596 0.85636038\n",
      " 0.84838524 0.83646639 0.84181234 0.8304193  0.79983346 0.81140175\n",
      " 0.81893867 0.82384641 0.84540556 0.8775689  0.88072389 0.87949696\n",
      " 0.87344987 0.88659566 0.89211687 0.86933085 0.88212608 0.87485212\n",
      " 0.86933085 0.92279037 0.9221769  0.92997673 0.91209852 0.92585771\n",
      " 0.95784587 0.94978313 0.95863458 1.         0.98404971 0.97397133\n",
      " 0.96494457 0.9773255  0.99056411 0.99809223 1.0052973  1.01229429\n",
      " 1.01921177 1.02617407 1.0332334  1.04041469]\n",
      "9 day output [[1.0477333]]\n",
      "10 day input [0.89601678 0.91089345 0.89763814 0.89586346 0.93295641 0.97800263\n",
      " 0.95363912 0.86144337 0.86214449 0.7908067  0.83024405 0.79667846\n",
      " 0.78362033 0.8130669  0.8146444  0.78475961 0.7690723  0.7383988\n",
      " 0.76679374 0.78195518 0.74085273 0.75049296 0.7860742  0.80956135\n",
      " 0.80193676 0.81701061 0.82559922 0.79255944 0.82305769 0.79378644\n",
      " 0.81061303 0.809649   0.82717672 0.89229218 0.86337143 0.86416021\n",
      " 0.85995353 0.84514259 0.81850052 0.83190921 0.82630035 0.8164848\n",
      " 0.81026247 0.81035013 0.82393407 0.77660922 0.81271634 0.75610183\n",
      " 0.75531305 0.76994874 0.80947369 0.84523024 0.84225056 0.8214802\n",
      " 0.81841286 0.84926161 0.84680774 0.84724596 0.85636038 0.84838524\n",
      " 0.83646639 0.84181234 0.8304193  0.79983346 0.81140175 0.81893867\n",
      " 0.82384641 0.84540556 0.8775689  0.88072389 0.87949696 0.87344987\n",
      " 0.88659566 0.89211687 0.86933085 0.88212608 0.87485212 0.86933085\n",
      " 0.92279037 0.9221769  0.92997673 0.91209852 0.92585771 0.95784587\n",
      " 0.94978313 0.95863458 1.         0.98404971 0.97397133 0.96494457\n",
      " 0.9773255  0.99056411 0.99809223 1.0052973  1.01229429 1.01921177\n",
      " 1.02617407 1.0332334  1.04041469 1.04773331]\n",
      "10 day output [[1.0551988]]\n",
      "11 day input [0.91089345 0.89763814 0.89586346 0.93295641 0.97800263 0.95363912\n",
      " 0.86144337 0.86214449 0.7908067  0.83024405 0.79667846 0.78362033\n",
      " 0.8130669  0.8146444  0.78475961 0.7690723  0.7383988  0.76679374\n",
      " 0.78195518 0.74085273 0.75049296 0.7860742  0.80956135 0.80193676\n",
      " 0.81701061 0.82559922 0.79255944 0.82305769 0.79378644 0.81061303\n",
      " 0.809649   0.82717672 0.89229218 0.86337143 0.86416021 0.85995353\n",
      " 0.84514259 0.81850052 0.83190921 0.82630035 0.8164848  0.81026247\n",
      " 0.81035013 0.82393407 0.77660922 0.81271634 0.75610183 0.75531305\n",
      " 0.76994874 0.80947369 0.84523024 0.84225056 0.8214802  0.81841286\n",
      " 0.84926161 0.84680774 0.84724596 0.85636038 0.84838524 0.83646639\n",
      " 0.84181234 0.8304193  0.79983346 0.81140175 0.81893867 0.82384641\n",
      " 0.84540556 0.8775689  0.88072389 0.87949696 0.87344987 0.88659566\n",
      " 0.89211687 0.86933085 0.88212608 0.87485212 0.86933085 0.92279037\n",
      " 0.9221769  0.92997673 0.91209852 0.92585771 0.95784587 0.94978313\n",
      " 0.95863458 1.         0.98404971 0.97397133 0.96494457 0.9773255\n",
      " 0.99056411 0.99809223 1.0052973  1.01229429 1.01921177 1.02617407\n",
      " 1.0332334  1.04041469 1.04773331 1.05519879]\n",
      "11 day output [[1.0628178]]\n",
      "12 day input [0.89763814 0.89586346 0.93295641 0.97800263 0.95363912 0.86144337\n",
      " 0.86214449 0.7908067  0.83024405 0.79667846 0.78362033 0.8130669\n",
      " 0.8146444  0.78475961 0.7690723  0.7383988  0.76679374 0.78195518\n",
      " 0.74085273 0.75049296 0.7860742  0.80956135 0.80193676 0.81701061\n",
      " 0.82559922 0.79255944 0.82305769 0.79378644 0.81061303 0.809649\n",
      " 0.82717672 0.89229218 0.86337143 0.86416021 0.85995353 0.84514259\n",
      " 0.81850052 0.83190921 0.82630035 0.8164848  0.81026247 0.81035013\n",
      " 0.82393407 0.77660922 0.81271634 0.75610183 0.75531305 0.76994874\n",
      " 0.80947369 0.84523024 0.84225056 0.8214802  0.81841286 0.84926161\n",
      " 0.84680774 0.84724596 0.85636038 0.84838524 0.83646639 0.84181234\n",
      " 0.8304193  0.79983346 0.81140175 0.81893867 0.82384641 0.84540556\n",
      " 0.8775689  0.88072389 0.87949696 0.87344987 0.88659566 0.89211687\n",
      " 0.86933085 0.88212608 0.87485212 0.86933085 0.92279037 0.9221769\n",
      " 0.92997673 0.91209852 0.92585771 0.95784587 0.94978313 0.95863458\n",
      " 1.         0.98404971 0.97397133 0.96494457 0.9773255  0.99056411\n",
      " 0.99809223 1.0052973  1.01229429 1.01921177 1.02617407 1.0332334\n",
      " 1.04041469 1.04773331 1.05519879 1.06281781]\n",
      "12 day output [[1.0705956]]\n",
      "13 day input [0.89586346 0.93295641 0.97800263 0.95363912 0.86144337 0.86214449\n",
      " 0.7908067  0.83024405 0.79667846 0.78362033 0.8130669  0.8146444\n",
      " 0.78475961 0.7690723  0.7383988  0.76679374 0.78195518 0.74085273\n",
      " 0.75049296 0.7860742  0.80956135 0.80193676 0.81701061 0.82559922\n",
      " 0.79255944 0.82305769 0.79378644 0.81061303 0.809649   0.82717672\n",
      " 0.89229218 0.86337143 0.86416021 0.85995353 0.84514259 0.81850052\n",
      " 0.83190921 0.82630035 0.8164848  0.81026247 0.81035013 0.82393407\n",
      " 0.77660922 0.81271634 0.75610183 0.75531305 0.76994874 0.80947369\n",
      " 0.84523024 0.84225056 0.8214802  0.81841286 0.84926161 0.84680774\n",
      " 0.84724596 0.85636038 0.84838524 0.83646639 0.84181234 0.8304193\n",
      " 0.79983346 0.81140175 0.81893867 0.82384641 0.84540556 0.8775689\n",
      " 0.88072389 0.87949696 0.87344987 0.88659566 0.89211687 0.86933085\n",
      " 0.88212608 0.87485212 0.86933085 0.92279037 0.9221769  0.92997673\n",
      " 0.91209852 0.92585771 0.95784587 0.94978313 0.95863458 1.\n",
      " 0.98404971 0.97397133 0.96494457 0.9773255  0.99056411 0.99809223\n",
      " 1.0052973  1.01229429 1.01921177 1.02617407 1.0332334  1.04041469\n",
      " 1.04773331 1.05519879 1.06281781 1.07059562]\n",
      "13 day output [[1.0785358]]\n",
      "14 day input [0.93295641 0.97800263 0.95363912 0.86144337 0.86214449 0.7908067\n",
      " 0.83024405 0.79667846 0.78362033 0.8130669  0.8146444  0.78475961\n",
      " 0.7690723  0.7383988  0.76679374 0.78195518 0.74085273 0.75049296\n",
      " 0.7860742  0.80956135 0.80193676 0.81701061 0.82559922 0.79255944\n",
      " 0.82305769 0.79378644 0.81061303 0.809649   0.82717672 0.89229218\n",
      " 0.86337143 0.86416021 0.85995353 0.84514259 0.81850052 0.83190921\n",
      " 0.82630035 0.8164848  0.81026247 0.81035013 0.82393407 0.77660922\n",
      " 0.81271634 0.75610183 0.75531305 0.76994874 0.80947369 0.84523024\n",
      " 0.84225056 0.8214802  0.81841286 0.84926161 0.84680774 0.84724596\n",
      " 0.85636038 0.84838524 0.83646639 0.84181234 0.8304193  0.79983346\n",
      " 0.81140175 0.81893867 0.82384641 0.84540556 0.8775689  0.88072389\n",
      " 0.87949696 0.87344987 0.88659566 0.89211687 0.86933085 0.88212608\n",
      " 0.87485212 0.86933085 0.92279037 0.9221769  0.92997673 0.91209852\n",
      " 0.92585771 0.95784587 0.94978313 0.95863458 1.         0.98404971\n",
      " 0.97397133 0.96494457 0.9773255  0.99056411 0.99809223 1.0052973\n",
      " 1.01229429 1.01921177 1.02617407 1.0332334  1.04041469 1.04773331\n",
      " 1.05519879 1.06281781 1.07059562 1.0785358 ]\n",
      "14 day output [[1.0866404]]\n",
      "15 day input [0.97800263 0.95363912 0.86144337 0.86214449 0.7908067  0.83024405\n",
      " 0.79667846 0.78362033 0.8130669  0.8146444  0.78475961 0.7690723\n",
      " 0.7383988  0.76679374 0.78195518 0.74085273 0.75049296 0.7860742\n",
      " 0.80956135 0.80193676 0.81701061 0.82559922 0.79255944 0.82305769\n",
      " 0.79378644 0.81061303 0.809649   0.82717672 0.89229218 0.86337143\n",
      " 0.86416021 0.85995353 0.84514259 0.81850052 0.83190921 0.82630035\n",
      " 0.8164848  0.81026247 0.81035013 0.82393407 0.77660922 0.81271634\n",
      " 0.75610183 0.75531305 0.76994874 0.80947369 0.84523024 0.84225056\n",
      " 0.8214802  0.81841286 0.84926161 0.84680774 0.84724596 0.85636038\n",
      " 0.84838524 0.83646639 0.84181234 0.8304193  0.79983346 0.81140175\n",
      " 0.81893867 0.82384641 0.84540556 0.8775689  0.88072389 0.87949696\n",
      " 0.87344987 0.88659566 0.89211687 0.86933085 0.88212608 0.87485212\n",
      " 0.86933085 0.92279037 0.9221769  0.92997673 0.91209852 0.92585771\n",
      " 0.95784587 0.94978313 0.95863458 1.         0.98404971 0.97397133\n",
      " 0.96494457 0.9773255  0.99056411 0.99809223 1.0052973  1.01229429\n",
      " 1.01921177 1.02617407 1.0332334  1.04041469 1.04773331 1.05519879\n",
      " 1.06281781 1.07059562 1.0785358  1.08664036]\n",
      "15 day output [[1.0949099]]\n",
      "16 day input [0.95363912 0.86144337 0.86214449 0.7908067  0.83024405 0.79667846\n",
      " 0.78362033 0.8130669  0.8146444  0.78475961 0.7690723  0.7383988\n",
      " 0.76679374 0.78195518 0.74085273 0.75049296 0.7860742  0.80956135\n",
      " 0.80193676 0.81701061 0.82559922 0.79255944 0.82305769 0.79378644\n",
      " 0.81061303 0.809649   0.82717672 0.89229218 0.86337143 0.86416021\n",
      " 0.85995353 0.84514259 0.81850052 0.83190921 0.82630035 0.8164848\n",
      " 0.81026247 0.81035013 0.82393407 0.77660922 0.81271634 0.75610183\n",
      " 0.75531305 0.76994874 0.80947369 0.84523024 0.84225056 0.8214802\n",
      " 0.81841286 0.84926161 0.84680774 0.84724596 0.85636038 0.84838524\n",
      " 0.83646639 0.84181234 0.8304193  0.79983346 0.81140175 0.81893867\n",
      " 0.82384641 0.84540556 0.8775689  0.88072389 0.87949696 0.87344987\n",
      " 0.88659566 0.89211687 0.86933085 0.88212608 0.87485212 0.86933085\n",
      " 0.92279037 0.9221769  0.92997673 0.91209852 0.92585771 0.95784587\n",
      " 0.94978313 0.95863458 1.         0.98404971 0.97397133 0.96494457\n",
      " 0.9773255  0.99056411 0.99809223 1.0052973  1.01229429 1.01921177\n",
      " 1.02617407 1.0332334  1.04041469 1.04773331 1.05519879 1.06281781\n",
      " 1.07059562 1.0785358  1.08664036 1.09490991]\n",
      "16 day output [[1.1033442]]\n",
      "17 day input [0.86144337 0.86214449 0.7908067  0.83024405 0.79667846 0.78362033\n",
      " 0.8130669  0.8146444  0.78475961 0.7690723  0.7383988  0.76679374\n",
      " 0.78195518 0.74085273 0.75049296 0.7860742  0.80956135 0.80193676\n",
      " 0.81701061 0.82559922 0.79255944 0.82305769 0.79378644 0.81061303\n",
      " 0.809649   0.82717672 0.89229218 0.86337143 0.86416021 0.85995353\n",
      " 0.84514259 0.81850052 0.83190921 0.82630035 0.8164848  0.81026247\n",
      " 0.81035013 0.82393407 0.77660922 0.81271634 0.75610183 0.75531305\n",
      " 0.76994874 0.80947369 0.84523024 0.84225056 0.8214802  0.81841286\n",
      " 0.84926161 0.84680774 0.84724596 0.85636038 0.84838524 0.83646639\n",
      " 0.84181234 0.8304193  0.79983346 0.81140175 0.81893867 0.82384641\n",
      " 0.84540556 0.8775689  0.88072389 0.87949696 0.87344987 0.88659566\n",
      " 0.89211687 0.86933085 0.88212608 0.87485212 0.86933085 0.92279037\n",
      " 0.9221769  0.92997673 0.91209852 0.92585771 0.95784587 0.94978313\n",
      " 0.95863458 1.         0.98404971 0.97397133 0.96494457 0.9773255\n",
      " 0.99056411 0.99809223 1.0052973  1.01229429 1.01921177 1.02617407\n",
      " 1.0332334  1.04041469 1.04773331 1.05519879 1.06281781 1.07059562\n",
      " 1.0785358  1.08664036 1.09490991 1.1033442 ]\n",
      "17 day output [[1.1119429]]\n",
      "18 day input [0.86214449 0.7908067  0.83024405 0.79667846 0.78362033 0.8130669\n",
      " 0.8146444  0.78475961 0.7690723  0.7383988  0.76679374 0.78195518\n",
      " 0.74085273 0.75049296 0.7860742  0.80956135 0.80193676 0.81701061\n",
      " 0.82559922 0.79255944 0.82305769 0.79378644 0.81061303 0.809649\n",
      " 0.82717672 0.89229218 0.86337143 0.86416021 0.85995353 0.84514259\n",
      " 0.81850052 0.83190921 0.82630035 0.8164848  0.81026247 0.81035013\n",
      " 0.82393407 0.77660922 0.81271634 0.75610183 0.75531305 0.76994874\n",
      " 0.80947369 0.84523024 0.84225056 0.8214802  0.81841286 0.84926161\n",
      " 0.84680774 0.84724596 0.85636038 0.84838524 0.83646639 0.84181234\n",
      " 0.8304193  0.79983346 0.81140175 0.81893867 0.82384641 0.84540556\n",
      " 0.8775689  0.88072389 0.87949696 0.87344987 0.88659566 0.89211687\n",
      " 0.86933085 0.88212608 0.87485212 0.86933085 0.92279037 0.9221769\n",
      " 0.92997673 0.91209852 0.92585771 0.95784587 0.94978313 0.95863458\n",
      " 1.         0.98404971 0.97397133 0.96494457 0.9773255  0.99056411\n",
      " 0.99809223 1.0052973  1.01229429 1.01921177 1.02617407 1.0332334\n",
      " 1.04041469 1.04773331 1.05519879 1.06281781 1.07059562 1.0785358\n",
      " 1.08664036 1.09490991 1.1033442  1.11194289]\n",
      "18 day output [[1.1207038]]\n",
      "19 day input [0.7908067  0.83024405 0.79667846 0.78362033 0.8130669  0.8146444\n",
      " 0.78475961 0.7690723  0.7383988  0.76679374 0.78195518 0.74085273\n",
      " 0.75049296 0.7860742  0.80956135 0.80193676 0.81701061 0.82559922\n",
      " 0.79255944 0.82305769 0.79378644 0.81061303 0.809649   0.82717672\n",
      " 0.89229218 0.86337143 0.86416021 0.85995353 0.84514259 0.81850052\n",
      " 0.83190921 0.82630035 0.8164848  0.81026247 0.81035013 0.82393407\n",
      " 0.77660922 0.81271634 0.75610183 0.75531305 0.76994874 0.80947369\n",
      " 0.84523024 0.84225056 0.8214802  0.81841286 0.84926161 0.84680774\n",
      " 0.84724596 0.85636038 0.84838524 0.83646639 0.84181234 0.8304193\n",
      " 0.79983346 0.81140175 0.81893867 0.82384641 0.84540556 0.8775689\n",
      " 0.88072389 0.87949696 0.87344987 0.88659566 0.89211687 0.86933085\n",
      " 0.88212608 0.87485212 0.86933085 0.92279037 0.9221769  0.92997673\n",
      " 0.91209852 0.92585771 0.95784587 0.94978313 0.95863458 1.\n",
      " 0.98404971 0.97397133 0.96494457 0.9773255  0.99056411 0.99809223\n",
      " 1.0052973  1.01229429 1.01921177 1.02617407 1.0332334  1.04041469\n",
      " 1.04773331 1.05519879 1.06281781 1.07059562 1.0785358  1.08664036\n",
      " 1.09490991 1.1033442  1.11194289 1.12070382]\n",
      "19 day output [[1.1296242]]\n",
      "20 day input [0.83024405 0.79667846 0.78362033 0.8130669  0.8146444  0.78475961\n",
      " 0.7690723  0.7383988  0.76679374 0.78195518 0.74085273 0.75049296\n",
      " 0.7860742  0.80956135 0.80193676 0.81701061 0.82559922 0.79255944\n",
      " 0.82305769 0.79378644 0.81061303 0.809649   0.82717672 0.89229218\n",
      " 0.86337143 0.86416021 0.85995353 0.84514259 0.81850052 0.83190921\n",
      " 0.82630035 0.8164848  0.81026247 0.81035013 0.82393407 0.77660922\n",
      " 0.81271634 0.75610183 0.75531305 0.76994874 0.80947369 0.84523024\n",
      " 0.84225056 0.8214802  0.81841286 0.84926161 0.84680774 0.84724596\n",
      " 0.85636038 0.84838524 0.83646639 0.84181234 0.8304193  0.79983346\n",
      " 0.81140175 0.81893867 0.82384641 0.84540556 0.8775689  0.88072389\n",
      " 0.87949696 0.87344987 0.88659566 0.89211687 0.86933085 0.88212608\n",
      " 0.87485212 0.86933085 0.92279037 0.9221769  0.92997673 0.91209852\n",
      " 0.92585771 0.95784587 0.94978313 0.95863458 1.         0.98404971\n",
      " 0.97397133 0.96494457 0.9773255  0.99056411 0.99809223 1.0052973\n",
      " 1.01229429 1.01921177 1.02617407 1.0332334  1.04041469 1.04773331\n",
      " 1.05519879 1.06281781 1.07059562 1.0785358  1.08664036 1.09490991\n",
      " 1.1033442  1.11194289 1.12070382 1.12962425]\n",
      "20 day output [[1.1387017]]\n",
      "21 day input [0.79667846 0.78362033 0.8130669  0.8146444  0.78475961 0.7690723\n",
      " 0.7383988  0.76679374 0.78195518 0.74085273 0.75049296 0.7860742\n",
      " 0.80956135 0.80193676 0.81701061 0.82559922 0.79255944 0.82305769\n",
      " 0.79378644 0.81061303 0.809649   0.82717672 0.89229218 0.86337143\n",
      " 0.86416021 0.85995353 0.84514259 0.81850052 0.83190921 0.82630035\n",
      " 0.8164848  0.81026247 0.81035013 0.82393407 0.77660922 0.81271634\n",
      " 0.75610183 0.75531305 0.76994874 0.80947369 0.84523024 0.84225056\n",
      " 0.8214802  0.81841286 0.84926161 0.84680774 0.84724596 0.85636038\n",
      " 0.84838524 0.83646639 0.84181234 0.8304193  0.79983346 0.81140175\n",
      " 0.81893867 0.82384641 0.84540556 0.8775689  0.88072389 0.87949696\n",
      " 0.87344987 0.88659566 0.89211687 0.86933085 0.88212608 0.87485212\n",
      " 0.86933085 0.92279037 0.9221769  0.92997673 0.91209852 0.92585771\n",
      " 0.95784587 0.94978313 0.95863458 1.         0.98404971 0.97397133\n",
      " 0.96494457 0.9773255  0.99056411 0.99809223 1.0052973  1.01229429\n",
      " 1.01921177 1.02617407 1.0332334  1.04041469 1.04773331 1.05519879\n",
      " 1.06281781 1.07059562 1.0785358  1.08664036 1.09490991 1.1033442\n",
      " 1.11194289 1.12070382 1.12962425 1.13870168]\n",
      "21 day output [[1.1479319]]\n",
      "22 day input [0.78362033 0.8130669  0.8146444  0.78475961 0.7690723  0.7383988\n",
      " 0.76679374 0.78195518 0.74085273 0.75049296 0.7860742  0.80956135\n",
      " 0.80193676 0.81701061 0.82559922 0.79255944 0.82305769 0.79378644\n",
      " 0.81061303 0.809649   0.82717672 0.89229218 0.86337143 0.86416021\n",
      " 0.85995353 0.84514259 0.81850052 0.83190921 0.82630035 0.8164848\n",
      " 0.81026247 0.81035013 0.82393407 0.77660922 0.81271634 0.75610183\n",
      " 0.75531305 0.76994874 0.80947369 0.84523024 0.84225056 0.8214802\n",
      " 0.81841286 0.84926161 0.84680774 0.84724596 0.85636038 0.84838524\n",
      " 0.83646639 0.84181234 0.8304193  0.79983346 0.81140175 0.81893867\n",
      " 0.82384641 0.84540556 0.8775689  0.88072389 0.87949696 0.87344987\n",
      " 0.88659566 0.89211687 0.86933085 0.88212608 0.87485212 0.86933085\n",
      " 0.92279037 0.9221769  0.92997673 0.91209852 0.92585771 0.95784587\n",
      " 0.94978313 0.95863458 1.         0.98404971 0.97397133 0.96494457\n",
      " 0.9773255  0.99056411 0.99809223 1.0052973  1.01229429 1.01921177\n",
      " 1.02617407 1.0332334  1.04041469 1.04773331 1.05519879 1.06281781\n",
      " 1.07059562 1.0785358  1.08664036 1.09490991 1.1033442  1.11194289\n",
      " 1.12070382 1.12962425 1.13870168 1.14793193]\n",
      "22 day output [[1.15731]]\n",
      "23 day input [0.8130669  0.8146444  0.78475961 0.7690723  0.7383988  0.76679374\n",
      " 0.78195518 0.74085273 0.75049296 0.7860742  0.80956135 0.80193676\n",
      " 0.81701061 0.82559922 0.79255944 0.82305769 0.79378644 0.81061303\n",
      " 0.809649   0.82717672 0.89229218 0.86337143 0.86416021 0.85995353\n",
      " 0.84514259 0.81850052 0.83190921 0.82630035 0.8164848  0.81026247\n",
      " 0.81035013 0.82393407 0.77660922 0.81271634 0.75610183 0.75531305\n",
      " 0.76994874 0.80947369 0.84523024 0.84225056 0.8214802  0.81841286\n",
      " 0.84926161 0.84680774 0.84724596 0.85636038 0.84838524 0.83646639\n",
      " 0.84181234 0.8304193  0.79983346 0.81140175 0.81893867 0.82384641\n",
      " 0.84540556 0.8775689  0.88072389 0.87949696 0.87344987 0.88659566\n",
      " 0.89211687 0.86933085 0.88212608 0.87485212 0.86933085 0.92279037\n",
      " 0.9221769  0.92997673 0.91209852 0.92585771 0.95784587 0.94978313\n",
      " 0.95863458 1.         0.98404971 0.97397133 0.96494457 0.9773255\n",
      " 0.99056411 0.99809223 1.0052973  1.01229429 1.01921177 1.02617407\n",
      " 1.0332334  1.04041469 1.04773331 1.05519879 1.06281781 1.07059562\n",
      " 1.0785358  1.08664036 1.09490991 1.1033442  1.11194289 1.12070382\n",
      " 1.12962425 1.13870168 1.14793193 1.15731001]\n",
      "23 day output [[1.1668311]]\n",
      "24 day input [0.8146444  0.78475961 0.7690723  0.7383988  0.76679374 0.78195518\n",
      " 0.74085273 0.75049296 0.7860742  0.80956135 0.80193676 0.81701061\n",
      " 0.82559922 0.79255944 0.82305769 0.79378644 0.81061303 0.809649\n",
      " 0.82717672 0.89229218 0.86337143 0.86416021 0.85995353 0.84514259\n",
      " 0.81850052 0.83190921 0.82630035 0.8164848  0.81026247 0.81035013\n",
      " 0.82393407 0.77660922 0.81271634 0.75610183 0.75531305 0.76994874\n",
      " 0.80947369 0.84523024 0.84225056 0.8214802  0.81841286 0.84926161\n",
      " 0.84680774 0.84724596 0.85636038 0.84838524 0.83646639 0.84181234\n",
      " 0.8304193  0.79983346 0.81140175 0.81893867 0.82384641 0.84540556\n",
      " 0.8775689  0.88072389 0.87949696 0.87344987 0.88659566 0.89211687\n",
      " 0.86933085 0.88212608 0.87485212 0.86933085 0.92279037 0.9221769\n",
      " 0.92997673 0.91209852 0.92585771 0.95784587 0.94978313 0.95863458\n",
      " 1.         0.98404971 0.97397133 0.96494457 0.9773255  0.99056411\n",
      " 0.99809223 1.0052973  1.01229429 1.01921177 1.02617407 1.0332334\n",
      " 1.04041469 1.04773331 1.05519879 1.06281781 1.07059562 1.0785358\n",
      " 1.08664036 1.09490991 1.1033442  1.11194289 1.12070382 1.12962425\n",
      " 1.13870168 1.14793193 1.15731001 1.16683114]\n",
      "24 day output [[1.1764872]]\n",
      "25 day input [0.78475961 0.7690723  0.7383988  0.76679374 0.78195518 0.74085273\n",
      " 0.75049296 0.7860742  0.80956135 0.80193676 0.81701061 0.82559922\n",
      " 0.79255944 0.82305769 0.79378644 0.81061303 0.809649   0.82717672\n",
      " 0.89229218 0.86337143 0.86416021 0.85995353 0.84514259 0.81850052\n",
      " 0.83190921 0.82630035 0.8164848  0.81026247 0.81035013 0.82393407\n",
      " 0.77660922 0.81271634 0.75610183 0.75531305 0.76994874 0.80947369\n",
      " 0.84523024 0.84225056 0.8214802  0.81841286 0.84926161 0.84680774\n",
      " 0.84724596 0.85636038 0.84838524 0.83646639 0.84181234 0.8304193\n",
      " 0.79983346 0.81140175 0.81893867 0.82384641 0.84540556 0.8775689\n",
      " 0.88072389 0.87949696 0.87344987 0.88659566 0.89211687 0.86933085\n",
      " 0.88212608 0.87485212 0.86933085 0.92279037 0.9221769  0.92997673\n",
      " 0.91209852 0.92585771 0.95784587 0.94978313 0.95863458 1.\n",
      " 0.98404971 0.97397133 0.96494457 0.9773255  0.99056411 0.99809223\n",
      " 1.0052973  1.01229429 1.01921177 1.02617407 1.0332334  1.04041469\n",
      " 1.04773331 1.05519879 1.06281781 1.07059562 1.0785358  1.08664036\n",
      " 1.09490991 1.1033442  1.11194289 1.12070382 1.12962425 1.13870168\n",
      " 1.14793193 1.15731001 1.16683114 1.17648721]\n",
      "25 day output [[1.186271]]\n",
      "26 day input [0.7690723  0.7383988  0.76679374 0.78195518 0.74085273 0.75049296\n",
      " 0.7860742  0.80956135 0.80193676 0.81701061 0.82559922 0.79255944\n",
      " 0.82305769 0.79378644 0.81061303 0.809649   0.82717672 0.89229218\n",
      " 0.86337143 0.86416021 0.85995353 0.84514259 0.81850052 0.83190921\n",
      " 0.82630035 0.8164848  0.81026247 0.81035013 0.82393407 0.77660922\n",
      " 0.81271634 0.75610183 0.75531305 0.76994874 0.80947369 0.84523024\n",
      " 0.84225056 0.8214802  0.81841286 0.84926161 0.84680774 0.84724596\n",
      " 0.85636038 0.84838524 0.83646639 0.84181234 0.8304193  0.79983346\n",
      " 0.81140175 0.81893867 0.82384641 0.84540556 0.8775689  0.88072389\n",
      " 0.87949696 0.87344987 0.88659566 0.89211687 0.86933085 0.88212608\n",
      " 0.87485212 0.86933085 0.92279037 0.9221769  0.92997673 0.91209852\n",
      " 0.92585771 0.95784587 0.94978313 0.95863458 1.         0.98404971\n",
      " 0.97397133 0.96494457 0.9773255  0.99056411 0.99809223 1.0052973\n",
      " 1.01229429 1.01921177 1.02617407 1.0332334  1.04041469 1.04773331\n",
      " 1.05519879 1.06281781 1.07059562 1.0785358  1.08664036 1.09490991\n",
      " 1.1033442  1.11194289 1.12070382 1.12962425 1.13870168 1.14793193\n",
      " 1.15731001 1.16683114 1.17648721 1.18627095]\n",
      "26 day output [[1.196174]]\n",
      "27 day input [0.7383988  0.76679374 0.78195518 0.74085273 0.75049296 0.7860742\n",
      " 0.80956135 0.80193676 0.81701061 0.82559922 0.79255944 0.82305769\n",
      " 0.79378644 0.81061303 0.809649   0.82717672 0.89229218 0.86337143\n",
      " 0.86416021 0.85995353 0.84514259 0.81850052 0.83190921 0.82630035\n",
      " 0.8164848  0.81026247 0.81035013 0.82393407 0.77660922 0.81271634\n",
      " 0.75610183 0.75531305 0.76994874 0.80947369 0.84523024 0.84225056\n",
      " 0.8214802  0.81841286 0.84926161 0.84680774 0.84724596 0.85636038\n",
      " 0.84838524 0.83646639 0.84181234 0.8304193  0.79983346 0.81140175\n",
      " 0.81893867 0.82384641 0.84540556 0.8775689  0.88072389 0.87949696\n",
      " 0.87344987 0.88659566 0.89211687 0.86933085 0.88212608 0.87485212\n",
      " 0.86933085 0.92279037 0.9221769  0.92997673 0.91209852 0.92585771\n",
      " 0.95784587 0.94978313 0.95863458 1.         0.98404971 0.97397133\n",
      " 0.96494457 0.9773255  0.99056411 0.99809223 1.0052973  1.01229429\n",
      " 1.01921177 1.02617407 1.0332334  1.04041469 1.04773331 1.05519879\n",
      " 1.06281781 1.07059562 1.0785358  1.08664036 1.09490991 1.1033442\n",
      " 1.11194289 1.12070382 1.12962425 1.13870168 1.14793193 1.15731001\n",
      " 1.16683114 1.17648721 1.18627095 1.19617403]\n",
      "27 day output [[1.2061863]]\n",
      "28 day input [0.76679374 0.78195518 0.74085273 0.75049296 0.7860742  0.80956135\n",
      " 0.80193676 0.81701061 0.82559922 0.79255944 0.82305769 0.79378644\n",
      " 0.81061303 0.809649   0.82717672 0.89229218 0.86337143 0.86416021\n",
      " 0.85995353 0.84514259 0.81850052 0.83190921 0.82630035 0.8164848\n",
      " 0.81026247 0.81035013 0.82393407 0.77660922 0.81271634 0.75610183\n",
      " 0.75531305 0.76994874 0.80947369 0.84523024 0.84225056 0.8214802\n",
      " 0.81841286 0.84926161 0.84680774 0.84724596 0.85636038 0.84838524\n",
      " 0.83646639 0.84181234 0.8304193  0.79983346 0.81140175 0.81893867\n",
      " 0.82384641 0.84540556 0.8775689  0.88072389 0.87949696 0.87344987\n",
      " 0.88659566 0.89211687 0.86933085 0.88212608 0.87485212 0.86933085\n",
      " 0.92279037 0.9221769  0.92997673 0.91209852 0.92585771 0.95784587\n",
      " 0.94978313 0.95863458 1.         0.98404971 0.97397133 0.96494457\n",
      " 0.9773255  0.99056411 0.99809223 1.0052973  1.01229429 1.01921177\n",
      " 1.02617407 1.0332334  1.04041469 1.04773331 1.05519879 1.06281781\n",
      " 1.07059562 1.0785358  1.08664036 1.09490991 1.1033442  1.11194289\n",
      " 1.12070382 1.12962425 1.13870168 1.14793193 1.15731001 1.16683114\n",
      " 1.17648721 1.18627095 1.19617403 1.20618629]\n",
      "28 day output [[1.2162967]]\n",
      "29 day input [0.78195518 0.74085273 0.75049296 0.7860742  0.80956135 0.80193676\n",
      " 0.81701061 0.82559922 0.79255944 0.82305769 0.79378644 0.81061303\n",
      " 0.809649   0.82717672 0.89229218 0.86337143 0.86416021 0.85995353\n",
      " 0.84514259 0.81850052 0.83190921 0.82630035 0.8164848  0.81026247\n",
      " 0.81035013 0.82393407 0.77660922 0.81271634 0.75610183 0.75531305\n",
      " 0.76994874 0.80947369 0.84523024 0.84225056 0.8214802  0.81841286\n",
      " 0.84926161 0.84680774 0.84724596 0.85636038 0.84838524 0.83646639\n",
      " 0.84181234 0.8304193  0.79983346 0.81140175 0.81893867 0.82384641\n",
      " 0.84540556 0.8775689  0.88072389 0.87949696 0.87344987 0.88659566\n",
      " 0.89211687 0.86933085 0.88212608 0.87485212 0.86933085 0.92279037\n",
      " 0.9221769  0.92997673 0.91209852 0.92585771 0.95784587 0.94978313\n",
      " 0.95863458 1.         0.98404971 0.97397133 0.96494457 0.9773255\n",
      " 0.99056411 0.99809223 1.0052973  1.01229429 1.01921177 1.02617407\n",
      " 1.0332334  1.04041469 1.04773331 1.05519879 1.06281781 1.07059562\n",
      " 1.0785358  1.08664036 1.09490991 1.1033442  1.11194289 1.12070382\n",
      " 1.12962425 1.13870168 1.14793193 1.15731001 1.16683114 1.17648721\n",
      " 1.18627095 1.19617403 1.20618629 1.21629667]\n",
      "29 day output [[1.2264937]]\n",
      "[[0.9773254990577698], [0.9905641078948975], [0.9980922341346741], [1.005297303199768], [1.0122942924499512], [1.019211769104004], [1.0261740684509277], [1.033233404159546], [1.0404146909713745], [1.0477333068847656], [1.0551987886428833], [1.0628178119659424], [1.070595622062683], [1.078535795211792], [1.0866403579711914], [1.094909906387329], [1.103344202041626], [1.1119428873062134], [1.1207038164138794], [1.1296242475509644], [1.1387016773223877], [1.1479319334030151], [1.1573100090026855], [1.166831135749817], [1.1764872074127197], [1.1862709522247314], [1.1961740255355835], [1.206186294555664], [1.216296672821045], [1.2264937162399292]]\n"
     ]
    }
   ],
   "source": [
    "#demonstrate prediction for next 30 days\n",
    "from numpy import array\n",
    "\n",
    "lst_output=[]\n",
    "n_steps=100\n",
    "i=0\n",
    "while(i<30):\n",
    "    \n",
    "    if(len(temp_input)>100):\n",
    "        #print(temp_input)\n",
    "        x_input=np.array(temp_input[1:])\n",
    "        print(\"{} day input {}\".format(i,x_input))\n",
    "        x_input=x_input.reshape(1,-1)\n",
    "        x_input=x_input.reshape(1, n_steps, 1)\n",
    "        #print(x_input)\n",
    "        yhat = model.predict(x_input, verbose=0)\n",
    "        print(\"{} day output {}\".format(i,yhat))\n",
    "        temp_input.extend(yhat[0].tolist())\n",
    "        temp_input=temp_input[1:]\n",
    "        #print(temp_input)\n",
    "        lst_output.extend(yhat.tolist())\n",
    "        i=i+1\n",
    "    else:\n",
    "        x_input = x_input.reshape((1, n_steps,1))\n",
    "        yhat = model.predict(x_input, verbose=0)\n",
    "        print(yhat[0])\n",
    "        temp_input.extend(yhat[0].tolist())\n",
    "        print(len(temp_input))\n",
    "        lst_output.extend(yhat.tolist())\n",
    "        i=i+1\n",
    "print(lst_output)"
   ]
  },
  {
   "cell_type": "code",
   "execution_count": 196,
   "id": "81ac98dc",
   "metadata": {},
   "outputs": [],
   "source": [
    "day_new=np.arange(1,101)\n",
    "day_pred=np.arange(101,131)\n"
   ]
  },
  {
   "cell_type": "code",
   "execution_count": 197,
   "id": "2918e858",
   "metadata": {},
   "outputs": [],
   "source": [
    "import matplotlib.pyplot as plt\n"
   ]
  },
  {
   "cell_type": "code",
   "execution_count": 198,
   "id": "f487c2af",
   "metadata": {},
   "outputs": [
    {
     "data": {
      "text/plain": [
       "1512"
      ]
     },
     "execution_count": 198,
     "metadata": {},
     "output_type": "execute_result"
    }
   ],
   "source": [
    "len(df1)"
   ]
  },
  {
   "cell_type": "code",
   "execution_count": 199,
   "id": "05518e84",
   "metadata": {},
   "outputs": [],
   "source": [
    "df3=df1.tolist()\n",
    "df3.extend(lst_output)"
   ]
  },
  {
   "cell_type": "code",
   "execution_count": 201,
   "id": "342c4ed3",
   "metadata": {},
   "outputs": [
    {
     "data": {
      "text/plain": [
       "[<matplotlib.lines.Line2D at 0x1d6ce11eca0>]"
      ]
     },
     "execution_count": 201,
     "metadata": {},
     "output_type": "execute_result"
    },
    {
     "data": {
      "image/png": "[encoded data removed]",
      "text/plain": [
       "<Figure size 432x288 with 1 Axes>"
      ]
     },
     "metadata": {
      "needs_background": "light"
     },
     "output_type": "display_data"
    }
   ],
   "source": [
    "plt.plot(day_new,scaler.inverse_transform(df1[1412:]))\n",
    "plt.plot(day_pred,scaler.inverse_transform(lst_output))"
   ]
  },
  {
   "cell_type": "code",
   "execution_count": 202,
   "id": "a813599f",
   "metadata": {},
   "outputs": [
    {
     "data": {
      "text/plain": [
       "[<matplotlib.lines.Line2D at 0x1d6ce0b37c0>]"
      ]
     },
     "execution_count": 202,
     "metadata": {},
     "output_type": "execute_result"
    },
    {
     "data": {
      "image/png": "[encoded data removed]",
      "text/plain": [
       "<Figure size 432x288 with 1 Axes>"
      ]
     },
     "metadata": {
      "needs_background": "light"
     },
     "output_type": "display_data"
    }
   ],
   "source": [
    "df3=df1.tolist()\n",
    "df3.extend(lst_output)\n",
    "plt.plot(df3[1200:])\n"
   ]
  },
  {
   "cell_type": "code",
   "execution_count": null,
   "id": "2516b3b2",
   "metadata": {},
   "outputs": [],
   "source": []
  }
 ],
 "metadata": {
  "kernelspec": {
   "display_name": "Python 3",
   "language": "python",
   "name": "python3"
  },
  "language_info": {
   "codemirror_mode": {
    "name": "ipython",
    "version": 3
   },
   "file_extension": ".py",
   "mimetype": "text/x-python",
   "name": "python",
   "nbconvert_exporter": "python",
   "pygments_lexer": "ipython3",
   "version": "3.8.11"
  }
 },
 "nbformat": 4,
 "nbformat_minor": 5
}
